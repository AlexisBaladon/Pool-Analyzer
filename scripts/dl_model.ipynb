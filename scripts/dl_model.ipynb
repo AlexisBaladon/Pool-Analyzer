{
  "cells": [
    {
      "cell_type": "code",
      "execution_count": null,
      "metadata": {
        "id": "LJbFpoTe60q_"
      },
      "outputs": [],
      "source": [
        "!pip install transformers datasets transformers[torch]"
      ]
    },
    {
      "cell_type": "code",
      "execution_count": null,
      "metadata": {
        "id": "k2BXHHSf63R6"
      },
      "outputs": [],
      "source": [
        "!unzip yacine.zip"
      ]
    },
    {
      "cell_type": "markdown",
      "metadata": {
        "id": "r1qsLv0E6t-M"
      },
      "source": [
        "# **Finetuning of Deep Learning Model**\n",
        "\n",
        "In this section we will provide an the results of training an optimal model to compare its results with the classic feature extraction model."
      ]
    },
    {
      "cell_type": "markdown",
      "metadata": {
        "id": "EGOh_tKYr9i5"
      },
      "source": [
        "## **Libraries**"
      ]
    },
    {
      "cell_type": "code",
      "execution_count": 2,
      "metadata": {
        "id": "4E3yHDBj6t-Q"
      },
      "outputs": [],
      "source": [
        "import os\n",
        "\n",
        "from PIL import Image\n",
        "import PIL\n",
        "import matplotlib.pyplot as plt\n",
        "import numpy as np\n",
        "from datasets import load_dataset\n",
        "from transformers import pipeline\n",
        "from transformers import Trainer, TrainingArguments\n",
        "from transformers import DefaultDataCollator\n",
        "from transformers import AutoImageProcessor, ResNetModel\n",
        "import tensorflow as tf\n",
        "from tensorflow import keras\n",
        "from tensorflow.keras import layers\n",
        "from tensorflow.python.keras.layers import Dense, Flatten\n",
        "from tensorflow.keras.models import Sequential\n",
        "from tensorflow.keras.optimizers import Adam\n",
        "from sklearn.metrics import accuracy_score, classification_report, confusion_matrix\n"
      ]
    },
    {
      "cell_type": "markdown",
      "metadata": {
        "id": "xfsUjevisBB-"
      },
      "source": [
        "## **Dataset splitting**\n",
        "\n",
        "The model will be splitted in train/validation/test splits.\n",
        "Validation set will only be used to check the evolution of the model performance in a different set than the training split."
      ]
    },
    {
      "cell_type": "code",
      "execution_count": 31,
      "metadata": {
        "colab": {
          "base_uri": "https://localhost:8080/"
        },
        "id": "DT5DPlmjlVLW",
        "outputId": "18cb95a9-65f2-4a6f-df8b-0b43a4ae85ef"
      },
      "outputs": [
        {
          "name": "stdout",
          "output_type": "stream",
          "text": [
            "Found 2723 files belonging to 2 classes.\n",
            "Using 2179 files for training.\n",
            "Using 544 files for validation.\n",
            "Found 2723 files belonging to 2 classes.\n",
            "Found 355 files belonging to 2 classes.\n"
          ]
        }
      ],
      "source": [
        "data_dir = 'yacine'\n",
        "train_dir = data_dir + '/train'\n",
        "val_dir = data_dir + '/validation'\n",
        "\n",
        "img_height,img_width=50,50\n",
        "batch_size=32\n",
        "seed = 123\n",
        "\n",
        "train_ds, val_ds = tf.keras.preprocessing.image_dataset_from_directory(\n",
        "  train_dir,\n",
        "  subset=\"both\",\n",
        "  validation_split=0.2,\n",
        "  seed=seed,\n",
        "  shuffle=True,\n",
        "  image_size=(img_height, img_width),\n",
        "  batch_size=batch_size)\n",
        "\n",
        "merged_train_val = tf.keras.preprocessing.image_dataset_from_directory(\n",
        "  train_dir,\n",
        "  seed=seed,\n",
        "  shuffle=True,\n",
        "  image_size=(img_height, img_width),\n",
        "  batch_size=batch_size)\n",
        "\n",
        "test_ds = tf.keras.preprocessing.image_dataset_from_directory(\n",
        "  val_dir,\n",
        "  seed=seed,\n",
        "  shuffle=False,\n",
        "  image_size=(img_height, img_width),\n",
        "  batch_size=batch_size)"
      ]
    },
    {
      "cell_type": "code",
      "execution_count": 5,
      "metadata": {
        "colab": {
          "base_uri": "https://localhost:8080/"
        },
        "id": "R-h8WH-NmAlA",
        "outputId": "3e1d09e1-fc51-4d6a-dd5f-d609bd3ebba2"
      },
      "outputs": [
        {
          "name": "stdout",
          "output_type": "stream",
          "text": [
            "['no_pools', 'pools']\n"
          ]
        }
      ],
      "source": [
        "class_names = train_ds.class_names\n",
        "print(class_names)"
      ]
    },
    {
      "cell_type": "markdown",
      "metadata": {
        "id": "EIsAhjQvsEP2"
      },
      "source": [
        "## **Model Training**\n",
        "\n",
        "The model used for training is a ResNet50, popular because of the presence of skip (residual) connections in its architecture. Moreover, the model weights will be loaded from the imagenet dataset.\n",
        "\n",
        "Then, we will only flatten the 2D output and convert it into a probability distribution using the sigmoid activation function."
      ]
    },
    {
      "cell_type": "code",
      "execution_count": 34,
      "metadata": {
        "id": "w44xfUdLBP42"
      },
      "outputs": [],
      "source": [
        "def build_model():\n",
        "    resnet_model = Sequential()\n",
        "\n",
        "    pretrained_model= tf.keras.applications.ResNet50(\n",
        "        include_top=False,\n",
        "        input_shape=(img_height,img_width,3),\n",
        "        pooling='avg',classes=len(class_names),\n",
        "        weights='imagenet')\n",
        "\n",
        "    # Freeze layers\n",
        "    for layer in pretrained_model.layers:\n",
        "            layer.trainable=False\n",
        "\n",
        "    # Add trainable layer\n",
        "    resnet_model.add(pretrained_model)\n",
        "    resnet_model.add(Flatten())\n",
        "    resnet_model.add(Dense(512, activation='relu'))\n",
        "    resnet_model.add(Dense(1, activation='sigmoid')) # Binary class\n",
        "    return resnet_model"
      ]
    },
    {
      "cell_type": "code",
      "execution_count": 17,
      "metadata": {
        "colab": {
          "base_uri": "https://localhost:8080/"
        },
        "id": "_lRuYHQGmWHG",
        "outputId": "ac2b6bc3-4219-4299-f3f1-153686593a9a"
      },
      "outputs": [
        {
          "name": "stdout",
          "output_type": "stream",
          "text": [
            "Model: \"sequential_1\"\n",
            "_________________________________________________________________\n",
            " Layer (type)                Output Shape              Param #   \n",
            "=================================================================\n",
            " resnet50 (Functional)       (None, 2048)              23587712  \n",
            "                                                                 \n",
            " module_wrapper_3 (ModuleWr  (None, 2048)              0         \n",
            " apper)                                                          \n",
            "                                                                 \n",
            " module_wrapper_4 (ModuleWr  (None, 512)               1049088   \n",
            " apper)                                                          \n",
            "                                                                 \n",
            " module_wrapper_5 (ModuleWr  (None, 1)                 513       \n",
            " apper)                                                          \n",
            "                                                                 \n",
            "=================================================================\n",
            "Total params: 24637313 (93.98 MB)\n",
            "Trainable params: 1049601 (4.00 MB)\n",
            "Non-trainable params: 23587712 (89.98 MB)\n",
            "_________________________________________________________________\n"
          ]
        }
      ],
      "source": [
        "resnet_model = build_model()\n",
        "resnet_model.summary()"
      ]
    },
    {
      "cell_type": "markdown",
      "metadata": {
        "id": "4GhOIiROs9B3"
      },
      "source": [
        "The model will be trained using **Adam** optimizer with $\\alpha = 0.001$ and using the cross-entropy loss."
      ]
    },
    {
      "cell_type": "code",
      "execution_count": 36,
      "metadata": {
        "id": "qR6EBvWbmaJ4"
      },
      "outputs": [],
      "source": [
        "def compile_model(model):\n",
        "    model.compile(optimizer=Adam(learning_rate=0.001),\n",
        "                  loss='binary_crossentropy',\n",
        "                  metrics=['accuracy'])\n",
        "    return model"
      ]
    },
    {
      "cell_type": "code",
      "execution_count": null,
      "metadata": {
        "id": "kWrRREh2uwW-"
      },
      "outputs": [],
      "source": [
        "resnet_model = compile_model(resnet_model)"
      ]
    },
    {
      "cell_type": "code",
      "execution_count": 19,
      "metadata": {
        "colab": {
          "base_uri": "https://localhost:8080/"
        },
        "id": "KkvAL4HwmdSW",
        "outputId": "e49bf4ce-233a-4a62-a099-7f542acb6366"
      },
      "outputs": [
        {
          "name": "stdout",
          "output_type": "stream",
          "text": [
            "Epoch 1/5\n",
            "69/69 [==============================] - 51s 664ms/step - loss: 0.3453 - accuracy: 0.9032 - val_loss: 0.1804 - val_accuracy: 0.9338\n",
            "Epoch 2/5\n",
            "69/69 [==============================] - 45s 659ms/step - loss: 0.0849 - accuracy: 0.9642 - val_loss: 0.1927 - val_accuracy: 0.9320\n",
            "Epoch 3/5\n",
            "69/69 [==============================] - 44s 631ms/step - loss: 0.0533 - accuracy: 0.9798 - val_loss: 0.1922 - val_accuracy: 0.9449\n",
            "Epoch 4/5\n",
            "69/69 [==============================] - 50s 721ms/step - loss: 0.0278 - accuracy: 0.9890 - val_loss: 0.1777 - val_accuracy: 0.9504\n",
            "Epoch 5/5\n",
            "69/69 [==============================] - 50s 723ms/step - loss: 0.0107 - accuracy: 0.9982 - val_loss: 0.1836 - val_accuracy: 0.9522\n"
          ]
        }
      ],
      "source": [
        "epochs=5\n",
        "history = resnet_model.fit(\n",
        "  train_ds,\n",
        "  validation_data=val_ds,\n",
        "  epochs=epochs)"
      ]
    },
    {
      "cell_type": "markdown",
      "metadata": {
        "id": "zPkA3BLB1oqT"
      },
      "source": [
        "### **Validation**"
      ]
    },
    {
      "cell_type": "markdown",
      "metadata": {
        "id": "f8ItM9hqx7X4"
      },
      "source": [
        "#### **Accuracy on train and validation set**"
      ]
    },
    {
      "cell_type": "code",
      "execution_count": 22,
      "metadata": {
        "colab": {
          "base_uri": "https://localhost:8080/",
          "height": 449
        },
        "id": "s-1Imsl4q6wl",
        "outputId": "4720e758-225c-45c3-be61-0889cf76669b"
      },
      "outputs": [
        {
          "data": {
            "image/png": "[encoded data removed]",
            "text/plain": [
              "<Figure size 640x480 with 1 Axes>"
            ]
          },
          "metadata": {},
          "output_type": "display_data"
        }
      ],
      "source": [
        "import seaborn as sns\n",
        "\n",
        "data = {'epoch': [], 'accuracy': [], 'split': []}\n",
        "for idx, val_acc in enumerate(history.history['val_accuracy']):\n",
        "  data['split'].append('validation')\n",
        "  data['accuracy'].append(val_acc)\n",
        "  data['epoch'].append(idx+1)\n",
        "for idx, train_acc in enumerate(history.history['accuracy']):\n",
        "  data['split'].append('train')\n",
        "  data['accuracy'].append(train_acc)\n",
        "  data['epoch'].append(idx+1)\n",
        "\n",
        "sns.set_style('darkgrid')\n",
        "sns.lineplot(data=data, x='epoch', y='accuracy', hue='split');"
      ]
    },
    {
      "cell_type": "markdown",
      "metadata": {
        "id": "e6i3EHtoyENI"
      },
      "source": [
        "#### **Loss on train and validation set**"
      ]
    },
    {
      "cell_type": "code",
      "execution_count": 23,
      "metadata": {
        "colab": {
          "base_uri": "https://localhost:8080/",
          "height": 449
        },
        "id": "A0vVG4nsrJuu",
        "outputId": "a6a2ffa0-457b-4483-c797-ef347164be99"
      },
      "outputs": [
        {
          "data": {
            "image/png": "[encoded data removed]",
            "text/plain": [
              "<Figure size 640x480 with 1 Axes>"
            ]
          },
          "metadata": {},
          "output_type": "display_data"
        }
      ],
      "source": [
        "data = {'epoch': [], 'loss': [], 'split': []}\n",
        "for idx, val_loss in enumerate(history.history['val_loss']):\n",
        "  data['split'].append('validation')\n",
        "  data['loss'].append(val_loss)\n",
        "  data['epoch'].append(idx+1)\n",
        "for idx, train_loss in enumerate(history.history['loss']):\n",
        "  data['split'].append('train')\n",
        "  data['loss'].append(train_loss)\n",
        "  data['epoch'].append(idx+1)\n",
        "\n",
        "sns.set_style('darkgrid')\n",
        "sns.lineplot(data=data, x='epoch', y='loss', hue='split');"
      ]
    },
    {
      "cell_type": "markdown",
      "metadata": {
        "id": "MxQbCIEEmEje"
      },
      "source": [
        "## **Evaluation**"
      ]
    },
    {
      "cell_type": "markdown",
      "metadata": {
        "id": "Q1Q3tinh16ad"
      },
      "source": [
        "### **Main Dataset**\n",
        "\n",
        "Here we train the model again using the full train set (train and validation) to test the model in the test set from each dataset."
      ]
    },
    {
      "cell_type": "code",
      "execution_count": 37,
      "metadata": {
        "colab": {
          "base_uri": "https://localhost:8080/"
        },
        "id": "Aj_Vh8Tht_uv",
        "outputId": "e3e800fd-976c-4d13-9358-b4a4581db809"
      },
      "outputs": [
        {
          "name": "stdout",
          "output_type": "stream",
          "text": [
            "Epoch 1/5\n",
            "86/86 [==============================] - 43s 439ms/step - loss: 0.2909 - accuracy: 0.9115\n",
            "Epoch 2/5\n",
            "86/86 [==============================] - 38s 440ms/step - loss: 0.0793 - accuracy: 0.9714\n",
            "Epoch 3/5\n",
            "86/86 [==============================] - 35s 411ms/step - loss: 0.0440 - accuracy: 0.9831\n",
            "Epoch 4/5\n",
            "86/86 [==============================] - 39s 455ms/step - loss: 0.0279 - accuracy: 0.9901\n",
            "Epoch 5/5\n",
            "86/86 [==============================] - 37s 433ms/step - loss: 0.0107 - accuracy: 0.9974\n"
          ]
        }
      ],
      "source": [
        "epochs=5\n",
        "resnet_model = build_model()\n",
        "resnet_model = compile_model(resnet_model)\n",
        "history = resnet_model.fit(merged_train_val,\n",
        "                           epochs=epochs)"
      ]
    },
    {
      "cell_type": "code",
      "execution_count": 38,
      "metadata": {
        "colab": {
          "base_uri": "https://localhost:8080/"
        },
        "id": "2tbBq72ar7K9",
        "outputId": "51ad6d74-a20f-47b7-d38f-d4f70da99aec"
      },
      "outputs": [
        {
          "name": "stdout",
          "output_type": "stream",
          "text": [
            "12/12 [==============================] - 5s 332ms/step\n"
          ]
        }
      ],
      "source": [
        "pred = resnet_model.predict(test_ds)"
      ]
    },
    {
      "cell_type": "code",
      "execution_count": 39,
      "metadata": {
        "id": "75Jy17B0wlSc"
      },
      "outputs": [],
      "source": [
        "labels = [int(l) for _, labels in test_ds for l in labels]\n",
        "pred_y = [x[0] for x in pred]\n",
        "pred_y = np.round(pred_y).astype(int)"
      ]
    },
    {
      "cell_type": "code",
      "execution_count": 40,
      "metadata": {
        "colab": {
          "base_uri": "https://localhost:8080/"
        },
        "id": "bowDf0Nxyrnr",
        "outputId": "114929d6-07f9-4fb1-c6cd-336c614b7bed"
      },
      "outputs": [
        {
          "name": "stdout",
          "output_type": "stream",
          "text": [
            "              precision    recall  f1-score   support\n",
            "\n",
            "           0       0.92      0.98      0.95       166\n",
            "           1       0.98      0.93      0.95       189\n",
            "\n",
            "    accuracy                           0.95       355\n",
            "   macro avg       0.95      0.95      0.95       355\n",
            "weighted avg       0.95      0.95      0.95       355\n",
            "\n"
          ]
        }
      ],
      "source": [
        "cr = classification_report(pred_y, labels)\n",
        "print(cr)"
      ]
    },
    {
      "cell_type": "code",
      "execution_count": 41,
      "metadata": {
        "id": "2tX6UC4p0Iol"
      },
      "outputs": [],
      "source": [
        "cm = confusion_matrix(labels, pred_y)"
      ]
    },
    {
      "cell_type": "code",
      "execution_count": 42,
      "metadata": {
        "colab": {
          "base_uri": "https://localhost:8080/",
          "height": 430
        },
        "id": "5EzGAEEx0NIU",
        "outputId": "a25ac1f9-be6b-427e-b5ce-6d64b363e420"
      },
      "outputs": [
        {
          "data": {
            "image/png": "[encoded data removed]",
            "text/plain": [
              "<Figure size 640x480 with 2 Axes>"
            ]
          },
          "metadata": {},
          "output_type": "display_data"
        }
      ],
      "source": [
        "sns.heatmap(cm, annot=True, fmt='');"
      ]
    },
    {
      "cell_type": "markdown",
      "metadata": {
        "id": "t_O0un3f6aLE"
      },
      "source": [
        "### **Algarves' Dataset**"
      ]
    },
    {
      "cell_type": "code",
      "execution_count": 53,
      "metadata": {
        "id": "NqFgnFfd6b5i"
      },
      "outputs": [],
      "source": [
        "%%capture\n",
        "!unzip formatted_dataset.zip"
      ]
    },
    {
      "cell_type": "code",
      "execution_count": 54,
      "metadata": {
        "colab": {
          "base_uri": "https://localhost:8080/"
        },
        "id": "5G88OclQ6oBa",
        "outputId": "ac4610e4-d0f2-44e2-ea68-81527624c209"
      },
      "outputs": [
        {
          "name": "stdout",
          "output_type": "stream",
          "text": [
            "Found 289 files belonging to 2 classes.\n"
          ]
        }
      ],
      "source": [
        "algarves_formatted_test_dir = 'formatted_dataset'\n",
        "\n",
        "algarves_ds_formatted = tf.keras.preprocessing.image_dataset_from_directory(\n",
        "  algarves_formatted_test_dir,\n",
        "  seed=seed,\n",
        "  shuffle=False,\n",
        "  image_size=(img_height, img_width),\n",
        "  batch_size=batch_size)"
      ]
    },
    {
      "cell_type": "code",
      "execution_count": 55,
      "metadata": {
        "colab": {
          "base_uri": "https://localhost:8080/"
        },
        "id": "Kn5oze0U6pVs",
        "outputId": "85d84275-b225-403c-c139-cd21ae5ec93d"
      },
      "outputs": [
        {
          "name": "stdout",
          "output_type": "stream",
          "text": [
            "10/10 [==============================] - 7s 694ms/step\n"
          ]
        }
      ],
      "source": [
        "pred = resnet_model.predict(algarves_ds_formatted)"
      ]
    },
    {
      "cell_type": "code",
      "execution_count": 56,
      "metadata": {
        "id": "gj8asXCg6sQz"
      },
      "outputs": [],
      "source": [
        "labels = [int(l) for _, labels in algarves_ds_formatted for l in labels]\n",
        "pred_y = [x[0] for x in pred]\n",
        "pred_y = np.round(pred_y).astype(int)"
      ]
    },
    {
      "cell_type": "code",
      "execution_count": 57,
      "metadata": {
        "colab": {
          "base_uri": "https://localhost:8080/"
        },
        "id": "FcSzH_ci6xyz",
        "outputId": "c951ee41-b70a-452e-c667-2d31800de9a5"
      },
      "outputs": [
        {
          "name": "stdout",
          "output_type": "stream",
          "text": [
            "              precision    recall  f1-score   support\n",
            "\n",
            "           0       0.81      0.86      0.84       110\n",
            "           1       0.91      0.88      0.89       179\n",
            "\n",
            "    accuracy                           0.87       289\n",
            "   macro avg       0.86      0.87      0.87       289\n",
            "weighted avg       0.87      0.87      0.87       289\n",
            "\n"
          ]
        }
      ],
      "source": [
        "cr = classification_report(pred_y, labels)\n",
        "print(cr)"
      ]
    },
    {
      "cell_type": "code",
      "execution_count": 58,
      "metadata": {
        "id": "aertlnFG6zW0"
      },
      "outputs": [],
      "source": [
        "cm = confusion_matrix(labels, pred_y)"
      ]
    },
    {
      "cell_type": "code",
      "execution_count": 59,
      "metadata": {
        "colab": {
          "base_uri": "https://localhost:8080/",
          "height": 430
        },
        "id": "DjNoGArf603L",
        "outputId": "42888681-a7c0-4093-b45c-19d6a82fdeaf"
      },
      "outputs": [
        {
          "data": {
            "image/png": "[encoded data removed]",
            "text/plain": [
              "<Figure size 640x480 with 2 Axes>"
            ]
          },
          "metadata": {},
          "output_type": "display_data"
        }
      ],
      "source": [
        "sns.heatmap(cm, annot=True, fmt='');"
      ]
    },
    {
      "cell_type": "markdown",
      "metadata": {
        "id": "uJTUfqIQ1rZ7"
      },
      "source": [
        "### **Fragmented Algarves' Dataset**"
      ]
    },
    {
      "cell_type": "code",
      "execution_count": 46,
      "metadata": {
        "id": "i_FzjI042EwM"
      },
      "outputs": [],
      "source": [
        "%%capture\n",
        "!unzip fragmented_dataset.zip"
      ]
    },
    {
      "cell_type": "code",
      "execution_count": 47,
      "metadata": {
        "colab": {
          "base_uri": "https://localhost:8080/"
        },
        "id": "Xv4COk5o2B0L",
        "outputId": "88ad2f80-118a-47c5-f437-4e39d7b64f2a"
      },
      "outputs": [
        {
          "name": "stdout",
          "output_type": "stream",
          "text": [
            "Found 2199 files belonging to 2 classes.\n"
          ]
        }
      ],
      "source": [
        "algarves_test_dir = 'fragmented_dataset'\n",
        "\n",
        "algarves_ds = tf.keras.preprocessing.image_dataset_from_directory(\n",
        "  algarves_test_dir,\n",
        "  seed=seed,\n",
        "  shuffle=False,\n",
        "  image_size=(img_height, img_width),\n",
        "  batch_size=batch_size)"
      ]
    },
    {
      "cell_type": "code",
      "execution_count": 48,
      "metadata": {
        "colab": {
          "base_uri": "https://localhost:8080/"
        },
        "id": "90iSneAQ1sVl",
        "outputId": "44ff4c51-69d8-4d03-a0b9-9899f9fa67de"
      },
      "outputs": [
        {
          "name": "stdout",
          "output_type": "stream",
          "text": [
            "69/69 [==============================] - 36s 524ms/step\n"
          ]
        }
      ],
      "source": [
        "pred = resnet_model.predict(algarves_ds)"
      ]
    },
    {
      "cell_type": "code",
      "execution_count": 49,
      "metadata": {
        "id": "cvGAfBrT2mf7"
      },
      "outputs": [],
      "source": [
        "labels = [int(l) for _, labels in algarves_ds for l in labels]\n",
        "pred_y = [x[0] for x in pred]\n",
        "pred_y = np.round(pred_y).astype(int)"
      ]
    },
    {
      "cell_type": "code",
      "execution_count": 50,
      "metadata": {
        "colab": {
          "base_uri": "https://localhost:8080/"
        },
        "id": "djdJSUAT2jw1",
        "outputId": "0872f405-a919-4df4-ae3f-318944165922"
      },
      "outputs": [
        {
          "name": "stdout",
          "output_type": "stream",
          "text": [
            "              precision    recall  f1-score   support\n",
            "\n",
            "           0       0.73      0.99      0.84      1349\n",
            "           1       0.98      0.40      0.57       850\n",
            "\n",
            "    accuracy                           0.77      2199\n",
            "   macro avg       0.85      0.70      0.71      2199\n",
            "weighted avg       0.82      0.77      0.74      2199\n",
            "\n"
          ]
        }
      ],
      "source": [
        "cr = classification_report(pred_y, labels)\n",
        "print(cr)"
      ]
    },
    {
      "cell_type": "code",
      "execution_count": 51,
      "metadata": {
        "id": "dbgKjhe52q5T"
      },
      "outputs": [],
      "source": [
        "cm = confusion_matrix(labels, pred_y)"
      ]
    },
    {
      "cell_type": "code",
      "execution_count": 52,
      "metadata": {
        "colab": {
          "base_uri": "https://localhost:8080/",
          "height": 430
        },
        "id": "J08nxzBr3U98",
        "outputId": "a6d7f87e-db28-4ad6-abbe-61df3f364f54"
      },
      "outputs": [
        {
          "data": {
            "image/png": "[encoded data removed]",
            "text/plain": [
              "<Figure size 640x480 with 2 Axes>"
            ]
          },
          "metadata": {},
          "output_type": "display_data"
        }
      ],
      "source": [
        "sns.heatmap(cm, annot=True, fmt='');"
      ]
    }
  ],
  "metadata": {
    "colab": {
      "provenance": []
    },
    "kernelspec": {
      "display_name": "Python 3",
      "name": "python3"
    },
    "language_info": {
      "name": "python",
      "version": "3.9.6"
    }
  },
  "nbformat": 4,
  "nbformat_minor": 0
}
