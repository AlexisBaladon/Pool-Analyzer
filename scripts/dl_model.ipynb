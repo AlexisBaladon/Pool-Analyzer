{
  "cells": [
    {
      "cell_type": "code",
      "source": [
        "!pip install transformers datasets transformers[torch]"
      ],
      "metadata": {
        "colab": {
          "base_uri": "https://localhost:8080/"
        },
        "id": "LJbFpoTe60q_",
        "outputId": "32e4f537-3ba2-474b-9976-31f3bd2670fe"
      },
      "execution_count": 1,
      "outputs": [
        {
          "output_type": "stream",
          "name": "stdout",
          "text": [
            "Collecting transformers\n",
            "  Downloading transformers-4.30.2-py3-none-any.whl (7.2 MB)\n",
            "\u001b[2K     \u001b[90m━━━━━━━━━━━━━━━━━━━━━━━━━━━━━━━━━━━━━━━━\u001b[0m \u001b[32m7.2/7.2 MB\u001b[0m \u001b[31m50.1 MB/s\u001b[0m eta \u001b[36m0:00:00\u001b[0m\n",
            "\u001b[?25hCollecting datasets\n",
            "  Downloading datasets-2.13.1-py3-none-any.whl (486 kB)\n",
            "\u001b[2K     \u001b[90m━━━━━━━━━━━━━━━━━━━━━━━━━━━━━━━━━━━━━━\u001b[0m \u001b[32m486.2/486.2 kB\u001b[0m \u001b[31m36.2 MB/s\u001b[0m eta \u001b[36m0:00:00\u001b[0m\n",
            "\u001b[?25hRequirement already satisfied: filelock in /usr/local/lib/python3.10/dist-packages (from transformers) (3.12.2)\n",
            "Collecting huggingface-hub<1.0,>=0.14.1 (from transformers)\n",
            "  Downloading huggingface_hub-0.16.4-py3-none-any.whl (268 kB)\n",
            "\u001b[2K     \u001b[90m━━━━━━━━━━━━━━━━━━━━━━━━━━━━━━━━━━━━━━\u001b[0m \u001b[32m268.8/268.8 kB\u001b[0m \u001b[31m29.2 MB/s\u001b[0m eta \u001b[36m0:00:00\u001b[0m\n",
            "\u001b[?25hRequirement already satisfied: numpy>=1.17 in /usr/local/lib/python3.10/dist-packages (from transformers) (1.22.4)\n",
            "Requirement already satisfied: packaging>=20.0 in /usr/local/lib/python3.10/dist-packages (from transformers) (23.1)\n",
            "Requirement already satisfied: pyyaml>=5.1 in /usr/local/lib/python3.10/dist-packages (from transformers) (6.0)\n",
            "Requirement already satisfied: regex!=2019.12.17 in /usr/local/lib/python3.10/dist-packages (from transformers) (2022.10.31)\n",
            "Requirement already satisfied: requests in /usr/local/lib/python3.10/dist-packages (from transformers) (2.27.1)\n",
            "Collecting tokenizers!=0.11.3,<0.14,>=0.11.1 (from transformers)\n",
            "  Downloading tokenizers-0.13.3-cp310-cp310-manylinux_2_17_x86_64.manylinux2014_x86_64.whl (7.8 MB)\n",
            "\u001b[2K     \u001b[90m━━━━━━━━━━━━━━━━━━━━━━━━━━━━━━━━━━━━━━━━\u001b[0m \u001b[32m7.8/7.8 MB\u001b[0m \u001b[31m99.1 MB/s\u001b[0m eta \u001b[36m0:00:00\u001b[0m\n",
            "\u001b[?25hCollecting safetensors>=0.3.1 (from transformers)\n",
            "  Downloading safetensors-0.3.1-cp310-cp310-manylinux_2_17_x86_64.manylinux2014_x86_64.whl (1.3 MB)\n",
            "\u001b[2K     \u001b[90m━━━━━━━━━━━━━━━━━━━━━━━━━━━━━━━━━━━━━━━━\u001b[0m \u001b[32m1.3/1.3 MB\u001b[0m \u001b[31m74.3 MB/s\u001b[0m eta \u001b[36m0:00:00\u001b[0m\n",
            "\u001b[?25hRequirement already satisfied: tqdm>=4.27 in /usr/local/lib/python3.10/dist-packages (from transformers) (4.65.0)\n",
            "Requirement already satisfied: pyarrow>=8.0.0 in /usr/local/lib/python3.10/dist-packages (from datasets) (9.0.0)\n",
            "Collecting dill<0.3.7,>=0.3.0 (from datasets)\n",
            "  Downloading dill-0.3.6-py3-none-any.whl (110 kB)\n",
            "\u001b[2K     \u001b[90m━━━━━━━━━━━━━━━━━━━━━━━━━━━━━━━━━━━━━━\u001b[0m \u001b[32m110.5/110.5 kB\u001b[0m \u001b[31m12.6 MB/s\u001b[0m eta \u001b[36m0:00:00\u001b[0m\n",
            "\u001b[?25hRequirement already satisfied: pandas in /usr/local/lib/python3.10/dist-packages (from datasets) (1.5.3)\n",
            "Collecting xxhash (from datasets)\n",
            "  Downloading xxhash-3.2.0-cp310-cp310-manylinux_2_17_x86_64.manylinux2014_x86_64.whl (212 kB)\n",
            "\u001b[2K     \u001b[90m━━━━━━━━━━━━━━━━━━━━━━━━━━━━━━━━━━━━━━\u001b[0m \u001b[32m212.5/212.5 kB\u001b[0m \u001b[31m24.5 MB/s\u001b[0m eta \u001b[36m0:00:00\u001b[0m\n",
            "\u001b[?25hCollecting multiprocess (from datasets)\n",
            "  Downloading multiprocess-0.70.14-py310-none-any.whl (134 kB)\n",
            "\u001b[2K     \u001b[90m━━━━━━━━━━━━━━━━━━━━━━━━━━━━━━━━━━━━━━\u001b[0m \u001b[32m134.3/134.3 kB\u001b[0m \u001b[31m12.8 MB/s\u001b[0m eta \u001b[36m0:00:00\u001b[0m\n",
            "\u001b[?25hRequirement already satisfied: fsspec[http]>=2021.11.1 in /usr/local/lib/python3.10/dist-packages (from datasets) (2023.6.0)\n",
            "Requirement already satisfied: aiohttp in /usr/local/lib/python3.10/dist-packages (from datasets) (3.8.4)\n",
            "Requirement already satisfied: torch!=1.12.0,>=1.9 in /usr/local/lib/python3.10/dist-packages (from transformers) (2.0.1+cu118)\n",
            "Collecting accelerate>=0.20.2 (from transformers)\n",
            "  Downloading accelerate-0.21.0-py3-none-any.whl (244 kB)\n",
            "\u001b[2K     \u001b[90m━━━━━━━━━━━━━━━━━━━━━━━━━━━━━━━━━━━━━━\u001b[0m \u001b[32m244.2/244.2 kB\u001b[0m \u001b[31m23.2 MB/s\u001b[0m eta \u001b[36m0:00:00\u001b[0m\n",
            "\u001b[?25hRequirement already satisfied: psutil in /usr/local/lib/python3.10/dist-packages (from accelerate>=0.20.2->transformers) (5.9.5)\n",
            "Requirement already satisfied: attrs>=17.3.0 in /usr/local/lib/python3.10/dist-packages (from aiohttp->datasets) (23.1.0)\n",
            "Requirement already satisfied: charset-normalizer<4.0,>=2.0 in /usr/local/lib/python3.10/dist-packages (from aiohttp->datasets) (2.0.12)\n",
            "Requirement already satisfied: multidict<7.0,>=4.5 in /usr/local/lib/python3.10/dist-packages (from aiohttp->datasets) (6.0.4)\n",
            "Requirement already satisfied: async-timeout<5.0,>=4.0.0a3 in /usr/local/lib/python3.10/dist-packages (from aiohttp->datasets) (4.0.2)\n",
            "Requirement already satisfied: yarl<2.0,>=1.0 in /usr/local/lib/python3.10/dist-packages (from aiohttp->datasets) (1.9.2)\n",
            "Requirement already satisfied: frozenlist>=1.1.1 in /usr/local/lib/python3.10/dist-packages (from aiohttp->datasets) (1.4.0)\n",
            "Requirement already satisfied: aiosignal>=1.1.2 in /usr/local/lib/python3.10/dist-packages (from aiohttp->datasets) (1.3.1)\n",
            "Requirement already satisfied: typing-extensions>=3.7.4.3 in /usr/local/lib/python3.10/dist-packages (from huggingface-hub<1.0,>=0.14.1->transformers) (4.7.1)\n",
            "Requirement already satisfied: urllib3<1.27,>=1.21.1 in /usr/local/lib/python3.10/dist-packages (from requests->transformers) (1.26.16)\n",
            "Requirement already satisfied: certifi>=2017.4.17 in /usr/local/lib/python3.10/dist-packages (from requests->transformers) (2023.5.7)\n",
            "Requirement already satisfied: idna<4,>=2.5 in /usr/local/lib/python3.10/dist-packages (from requests->transformers) (3.4)\n",
            "Requirement already satisfied: sympy in /usr/local/lib/python3.10/dist-packages (from torch!=1.12.0,>=1.9->transformers) (1.11.1)\n",
            "Requirement already satisfied: networkx in /usr/local/lib/python3.10/dist-packages (from torch!=1.12.0,>=1.9->transformers) (3.1)\n",
            "Requirement already satisfied: jinja2 in /usr/local/lib/python3.10/dist-packages (from torch!=1.12.0,>=1.9->transformers) (3.1.2)\n",
            "Requirement already satisfied: triton==2.0.0 in /usr/local/lib/python3.10/dist-packages (from torch!=1.12.0,>=1.9->transformers) (2.0.0)\n",
            "Requirement already satisfied: cmake in /usr/local/lib/python3.10/dist-packages (from triton==2.0.0->torch!=1.12.0,>=1.9->transformers) (3.25.2)\n",
            "Requirement already satisfied: lit in /usr/local/lib/python3.10/dist-packages (from triton==2.0.0->torch!=1.12.0,>=1.9->transformers) (16.0.6)\n",
            "Requirement already satisfied: python-dateutil>=2.8.1 in /usr/local/lib/python3.10/dist-packages (from pandas->datasets) (2.8.2)\n",
            "Requirement already satisfied: pytz>=2020.1 in /usr/local/lib/python3.10/dist-packages (from pandas->datasets) (2022.7.1)\n",
            "Requirement already satisfied: six>=1.5 in /usr/local/lib/python3.10/dist-packages (from python-dateutil>=2.8.1->pandas->datasets) (1.16.0)\n",
            "Requirement already satisfied: MarkupSafe>=2.0 in /usr/local/lib/python3.10/dist-packages (from jinja2->torch!=1.12.0,>=1.9->transformers) (2.1.3)\n",
            "Requirement already satisfied: mpmath>=0.19 in /usr/local/lib/python3.10/dist-packages (from sympy->torch!=1.12.0,>=1.9->transformers) (1.3.0)\n",
            "Installing collected packages: tokenizers, safetensors, xxhash, dill, multiprocess, huggingface-hub, transformers, datasets, accelerate\n",
            "Successfully installed accelerate-0.21.0 datasets-2.13.1 dill-0.3.6 huggingface-hub-0.16.4 multiprocess-0.70.14 safetensors-0.3.1 tokenizers-0.13.3 transformers-4.30.2 xxhash-3.2.0\n"
          ]
        }
      ]
    },
    {
      "cell_type": "code",
      "source": [
        "!unzip validation.zip\n",
        "!unzip train.zip\n",
        "!mkdir datasets\n",
        "!mv train datasets\n",
        "!mv validation datasets"
      ],
      "metadata": {
        "colab": {
          "base_uri": "https://localhost:8080/"
        },
        "id": "k2BXHHSf63R6",
        "outputId": "2f92bc26-4cd5-42e9-a494-af56ea3e42fd"
      },
      "execution_count": 11,
      "outputs": [
        {
          "output_type": "stream",
          "name": "stdout",
          "text": [
            "mkdir: cannot create directory ‘datasets’: File exists\n",
            "mv: invalid option -- 'r'\n",
            "Try 'mv --help' for more information.\n",
            "mv: invalid option -- 'r'\n",
            "Try 'mv --help' for more information.\n"
          ]
        }
      ]
    },
    {
      "cell_type": "markdown",
      "metadata": {
        "id": "r1qsLv0E6t-M"
      },
      "source": [
        "# **Finetuning of Deep Learning Model**"
      ]
    },
    {
      "cell_type": "code",
      "execution_count": 149,
      "metadata": {
        "id": "4E3yHDBj6t-Q"
      },
      "outputs": [],
      "source": [
        "import os\n",
        "\n",
        "from transformers import pipeline\n",
        "from transformers import Trainer, TrainingArguments\n",
        "from transformers import DefaultDataCollator\n",
        "from datasets import load_dataset\n",
        "from transformers import AutoImageProcessor, ResNetModel\n",
        "from PIL import Image\n",
        "\n",
        "import matplotlib.pyplot as plt\n",
        "import numpy as np\n",
        "import os\n",
        "import PIL\n",
        "import tensorflow as tf\n",
        "from tensorflow import keras\n",
        "from tensorflow.keras import layers\n",
        "from tensorflow.python.keras.layers import Dense, Flatten\n",
        "from tensorflow.keras.models import Sequential\n",
        "from tensorflow.keras.optimizers import Adam\n",
        "from keras.callbacks import EarlyStopping, ModelCheckpoint, ReduceLROnPlateau\n",
        "from sklearn.metrics import accuracy_score, classification_report, confusion_matrix"
      ]
    },
    {
      "cell_type": "code",
      "source": [
        "data_dir = 'datasets'\n",
        "train_dir = data_dir + '/train'\n",
        "val_dir = data_dir + '/validation'\n",
        "\n",
        "img_height,img_width=50,50\n",
        "batch_size=32\n",
        "seed = 123\n",
        "\n",
        "train_ds = tf.keras.preprocessing.image_dataset_from_directory(\n",
        "  train_dir,\n",
        "  subset=\"training\",\n",
        "  validation_split=0.2,\n",
        "  seed=seed,\n",
        "  shuffle=True,\n",
        "  image_size=(img_height, img_width),\n",
        "  batch_size=batch_size\n",
        ")\n",
        "\n",
        "val_ds = tf.keras.preprocessing.image_dataset_from_directory(\n",
        "  train_dir,\n",
        "  subset=\"validation\",\n",
        "  validation_split=0.2,\n",
        "  seed=seed,\n",
        "  shuffle=True,\n",
        "  image_size=(img_height, img_width),\n",
        "  batch_size=batch_size\n",
        ")\n",
        "\n",
        "test_ds = tf.keras.preprocessing.image_dataset_from_directory(\n",
        "  val_dir,\n",
        "  seed=seed,\n",
        "  shuffle=False,\n",
        "  image_size=(img_height, img_width),\n",
        "  batch_size=batch_size\n",
        ")"
      ],
      "metadata": {
        "colab": {
          "base_uri": "https://localhost:8080/"
        },
        "id": "DT5DPlmjlVLW",
        "outputId": "12272bff-b83f-4b8d-8678-b5e21ceabc63"
      },
      "execution_count": 150,
      "outputs": [
        {
          "output_type": "stream",
          "name": "stdout",
          "text": [
            "Found 2723 files belonging to 2 classes.\n",
            "Using 2179 files for training.\n",
            "Found 2723 files belonging to 2 classes.\n",
            "Using 544 files for validation.\n",
            "Found 355 files belonging to 2 classes.\n"
          ]
        }
      ]
    },
    {
      "cell_type": "code",
      "source": [
        "class_names = train_ds.class_names\n",
        "print(class_names)"
      ],
      "metadata": {
        "colab": {
          "base_uri": "https://localhost:8080/"
        },
        "id": "R-h8WH-NmAlA",
        "outputId": "8f5f49e4-bf81-4336-a41a-57c73df2019e"
      },
      "execution_count": 151,
      "outputs": [
        {
          "output_type": "stream",
          "name": "stdout",
          "text": [
            "['no_pools', 'pools']\n"
          ]
        }
      ]
    },
    {
      "cell_type": "code",
      "source": [
        "resnet_model = Sequential()\n",
        "\n",
        "pretrained_model= tf.keras.applications.ResNet50(\n",
        "                    include_top=False,\n",
        "                    input_shape=(img_height,img_width,3),\n",
        "                    pooling='avg',classes=len(class_names),\n",
        "                    weights='imagenet'\n",
        "                  )\n",
        "\n",
        "for layer in pretrained_model.layers:\n",
        "        layer.trainable=False\n",
        "\n",
        "resnet_model.add(pretrained_model)\n",
        "resnet_model.add(Flatten())\n",
        "resnet_model.add(Dense(512, activation='relu'))\n",
        "resnet_model.add(Dense(1, activation='sigmoid'))"
      ],
      "metadata": {
        "id": "w44xfUdLBP42"
      },
      "execution_count": 152,
      "outputs": []
    },
    {
      "cell_type": "code",
      "source": [
        "resnet_model.summary()"
      ],
      "metadata": {
        "colab": {
          "base_uri": "https://localhost:8080/"
        },
        "id": "_lRuYHQGmWHG",
        "outputId": "c2b258d5-18e4-4d4e-c2f0-d15a463f7596"
      },
      "execution_count": 153,
      "outputs": [
        {
          "output_type": "stream",
          "name": "stdout",
          "text": [
            "Model: \"sequential_8\"\n",
            "_________________________________________________________________\n",
            " Layer (type)                Output Shape              Param #   \n",
            "=================================================================\n",
            " resnet50 (Functional)       (None, 2048)              23587712  \n",
            "                                                                 \n",
            " module_wrapper_24 (ModuleWr  (None, 2048)             0         \n",
            " apper)                                                          \n",
            "                                                                 \n",
            " module_wrapper_25 (ModuleWr  (None, 512)              1049088   \n",
            " apper)                                                          \n",
            "                                                                 \n",
            " module_wrapper_26 (ModuleWr  (None, 1)                513       \n",
            " apper)                                                          \n",
            "                                                                 \n",
            "=================================================================\n",
            "Total params: 24,637,313\n",
            "Trainable params: 1,049,601\n",
            "Non-trainable params: 23,587,712\n",
            "_________________________________________________________________\n"
          ]
        }
      ]
    },
    {
      "cell_type": "code",
      "source": [
        "resnet_model.compile(optimizer=Adam(learning_rate=0.001),loss='binary_crossentropy',metrics=['accuracy'])\n",
        "earlyStopping = EarlyStopping(monitor='val_loss', patience=10, verbose=0, mode='min')\n",
        "mcp_save = ModelCheckpoint('.resnet.hdf5', save_best_only=True, monitor='val_loss', mode='min')\n",
        "reduce_lr_loss = ReduceLROnPlateau(monitor='val_loss', factor=0.1, patience=7, verbose=1, epsilon=1e-4, mode='min')"
      ],
      "metadata": {
        "id": "qR6EBvWbmaJ4"
      },
      "execution_count": 154,
      "outputs": []
    },
    {
      "cell_type": "code",
      "source": [
        "epochs=10\n",
        "history = resnet_model.fit(\n",
        "  train_ds,\n",
        "  validation_data=val_ds,\n",
        "  epochs=epochs,\n",
        "  callbacks=[earlyStopping, mcp_save, reduce_lr_loss]\n",
        ")"
      ],
      "metadata": {
        "colab": {
          "base_uri": "https://localhost:8080/"
        },
        "id": "KkvAL4HwmdSW",
        "outputId": "abebc378-34cc-4e51-ed83-e194e47094cb"
      },
      "execution_count": 155,
      "outputs": [
        {
          "output_type": "stream",
          "name": "stdout",
          "text": [
            "Epoch 1/10\n",
            "69/69 [==============================] - 48s 637ms/step - loss: 0.3261 - accuracy: 0.9045 - val_loss: 0.1892 - val_accuracy: 0.9283\n",
            "Epoch 2/10\n",
            "69/69 [==============================] - 40s 583ms/step - loss: 0.0782 - accuracy: 0.9679 - val_loss: 0.2008 - val_accuracy: 0.9228\n",
            "Epoch 3/10\n",
            "69/69 [==============================] - 40s 585ms/step - loss: 0.0488 - accuracy: 0.9816 - val_loss: 0.1654 - val_accuracy: 0.9467\n",
            "Epoch 4/10\n",
            "69/69 [==============================] - 40s 577ms/step - loss: 0.0261 - accuracy: 0.9904 - val_loss: 0.1648 - val_accuracy: 0.9504\n",
            "Epoch 5/10\n",
            "69/69 [==============================] - 40s 581ms/step - loss: 0.0090 - accuracy: 0.9986 - val_loss: 0.1605 - val_accuracy: 0.9522\n",
            "Epoch 6/10\n",
            "69/69 [==============================] - 57s 828ms/step - loss: 0.0079 - accuracy: 0.9991 - val_loss: 0.1759 - val_accuracy: 0.9504\n",
            "Epoch 7/10\n",
            "69/69 [==============================] - 40s 581ms/step - loss: 0.0033 - accuracy: 0.9995 - val_loss: 0.1686 - val_accuracy: 0.9559\n",
            "Epoch 8/10\n",
            "69/69 [==============================] - 53s 774ms/step - loss: 0.0015 - accuracy: 1.0000 - val_loss: 0.1813 - val_accuracy: 0.9540\n",
            "Epoch 9/10\n",
            "69/69 [==============================] - 40s 585ms/step - loss: 0.0011 - accuracy: 1.0000 - val_loss: 0.1884 - val_accuracy: 0.9522\n",
            "Epoch 10/10\n",
            "69/69 [==============================] - 36s 523ms/step - loss: 9.2351e-04 - accuracy: 1.0000 - val_loss: 0.1888 - val_accuracy: 0.9540\n"
          ]
        }
      ]
    },
    {
      "cell_type": "markdown",
      "source": [
        "### **Validación**"
      ],
      "metadata": {
        "id": "zPkA3BLB1oqT"
      }
    },
    {
      "cell_type": "code",
      "source": [
        "import seaborn as sns\n",
        "\n",
        "data = {'epoch': [], 'accuracy': [], 'split': []}\n",
        "for idx, val_acc in enumerate(history.history['val_accuracy']):\n",
        "  data['split'].append('validation')\n",
        "  data['accuracy'].append(val_acc)\n",
        "  data['epoch'].append(idx+1)\n",
        "for idx, train_acc in enumerate(history.history['accuracy']):\n",
        "  data['split'].append('train')\n",
        "  data['accuracy'].append(train_acc)\n",
        "  data['epoch'].append(idx+1)\n",
        "\n",
        "sns.set_style('darkgrid')\n",
        "sns.lineplot(data=data, x='epoch', y='accuracy', hue='split');"
      ],
      "metadata": {
        "colab": {
          "base_uri": "https://localhost:8080/",
          "height": 449
        },
        "id": "s-1Imsl4q6wl",
        "outputId": "3f88b47b-bf59-45f0-f83e-529c187956cf"
      },
      "execution_count": 157,
      "outputs": [
        {
          "output_type": "display_data",
          "data": {
            "text/plain": [
              "<Figure size 640x480 with 1 Axes>"
            ],
            "image/png": "[encoded data removed]"
          },
          "metadata": {}
        }
      ]
    },
    {
      "cell_type": "code",
      "source": [
        "data = {'epoch': [], 'loss': [], 'split': []}\n",
        "for idx, val_loss in enumerate(history.history['val_loss']):\n",
        "  data['split'].append('validation')\n",
        "  data['loss'].append(val_loss)\n",
        "  data['epoch'].append(idx+1)\n",
        "for idx, train_loss in enumerate(history.history['loss']):\n",
        "  data['split'].append('train')\n",
        "  data['loss'].append(train_loss)\n",
        "  data['epoch'].append(idx+1)\n",
        "\n",
        "sns.set_style('darkgrid')\n",
        "sns.lineplot(data=data, x='epoch', y='loss', hue='split');"
      ],
      "metadata": {
        "colab": {
          "base_uri": "https://localhost:8080/",
          "height": 449
        },
        "id": "A0vVG4nsrJuu",
        "outputId": "bac3c453-211b-4c2d-dd67-15692deecee9"
      },
      "execution_count": 158,
      "outputs": [
        {
          "output_type": "display_data",
          "data": {
            "text/plain": [
              "<Figure size 640x480 with 1 Axes>"
            ],
            "image/png": "[encoded data removed]"
          },
          "metadata": {}
        }
      ]
    },
    {
      "cell_type": "markdown",
      "source": [
        "## **Evaluación**"
      ],
      "metadata": {
        "id": "MxQbCIEEmEje"
      }
    },
    {
      "cell_type": "markdown",
      "source": [
        "### **Dataset principal**"
      ],
      "metadata": {
        "id": "Q1Q3tinh16ad"
      }
    },
    {
      "cell_type": "code",
      "source": [
        "pred = resnet_model.predict(test_ds)"
      ],
      "metadata": {
        "colab": {
          "base_uri": "https://localhost:8080/"
        },
        "id": "2tbBq72ar7K9",
        "outputId": "a2900cba-46cf-41bb-cb51-062ede55b1c1"
      },
      "execution_count": 159,
      "outputs": [
        {
          "output_type": "stream",
          "name": "stdout",
          "text": [
            "12/12 [==============================] - 7s 527ms/step\n"
          ]
        }
      ]
    },
    {
      "cell_type": "code",
      "source": [
        "labels = [int(l) for _, labels in test_ds for l in labels]\n",
        "pred_y = [x[0] for x in pred]\n",
        "pred_y = np.round(pred_y).astype(int)"
      ],
      "metadata": {
        "id": "75Jy17B0wlSc"
      },
      "execution_count": 160,
      "outputs": []
    },
    {
      "cell_type": "code",
      "source": [
        "cr = classification_report(pred_y, labels)\n",
        "print(cr)"
      ],
      "metadata": {
        "colab": {
          "base_uri": "https://localhost:8080/"
        },
        "id": "bowDf0Nxyrnr",
        "outputId": "9f1404a4-ec7a-424c-f5f5-e9148cbe2325"
      },
      "execution_count": 161,
      "outputs": [
        {
          "output_type": "stream",
          "name": "stdout",
          "text": [
            "              precision    recall  f1-score   support\n",
            "\n",
            "           0       0.91      0.97      0.94       166\n",
            "           1       0.97      0.92      0.95       189\n",
            "\n",
            "    accuracy                           0.94       355\n",
            "   macro avg       0.94      0.95      0.94       355\n",
            "weighted avg       0.95      0.94      0.94       355\n",
            "\n"
          ]
        }
      ]
    },
    {
      "cell_type": "code",
      "source": [
        "cm = confusion_matrix(labels, pred_y)"
      ],
      "metadata": {
        "id": "2tX6UC4p0Iol"
      },
      "execution_count": 162,
      "outputs": []
    },
    {
      "cell_type": "code",
      "source": [
        "sns.heatmap(cm, annot=True, fmt='');"
      ],
      "metadata": {
        "colab": {
          "base_uri": "https://localhost:8080/",
          "height": 430
        },
        "id": "5EzGAEEx0NIU",
        "outputId": "b5b57286-8abe-403a-e925-9097e7fe6454"
      },
      "execution_count": 163,
      "outputs": [
        {
          "output_type": "display_data",
          "data": {
            "text/plain": [
              "<Figure size 640x480 with 2 Axes>"
            ],
            "image/png": "[encoded data removed]"
          },
          "metadata": {}
        }
      ]
    },
    {
      "cell_type": "markdown",
      "source": [
        "### **Dataset de algarves**"
      ],
      "metadata": {
        "id": "t_O0un3f6aLE"
      }
    },
    {
      "cell_type": "code",
      "source": [
        "!unzip formatted_dataset.zip"
      ],
      "metadata": {
        "id": "NqFgnFfd6b5i"
      },
      "execution_count": null,
      "outputs": []
    },
    {
      "cell_type": "code",
      "source": [
        "algarves_formatted_test_dir = 'formatted_dataset'\n",
        "\n",
        "algarves_ds_formatted = tf.keras.preprocessing.image_dataset_from_directory(\n",
        "  algarves_formatted_test_dir,\n",
        "  seed=seed,\n",
        "  shuffle=False,\n",
        "  image_size=(img_height, img_width),\n",
        "  batch_size=batch_size\n",
        ")"
      ],
      "metadata": {
        "colab": {
          "base_uri": "https://localhost:8080/"
        },
        "id": "5G88OclQ6oBa",
        "outputId": "27e6186c-415b-47df-97ff-e09f781ff29c"
      },
      "execution_count": 175,
      "outputs": [
        {
          "output_type": "stream",
          "name": "stdout",
          "text": [
            "Found 289 files belonging to 2 classes.\n"
          ]
        }
      ]
    },
    {
      "cell_type": "code",
      "source": [
        "pred = resnet_model.predict(algarves_ds_formatted)"
      ],
      "metadata": {
        "colab": {
          "base_uri": "https://localhost:8080/"
        },
        "id": "Kn5oze0U6pVs",
        "outputId": "6e40963a-de39-46f6-b503-a42b9ab6855f"
      },
      "execution_count": 176,
      "outputs": [
        {
          "output_type": "stream",
          "name": "stdout",
          "text": [
            "10/10 [==============================] - 6s 475ms/step\n"
          ]
        }
      ]
    },
    {
      "cell_type": "code",
      "source": [
        "labels = [int(l) for _, labels in algarves_ds_formatted for l in labels]\n",
        "pred_y = [x[0] for x in pred]\n",
        "pred_y = np.round(pred_y).astype(int)"
      ],
      "metadata": {
        "id": "gj8asXCg6sQz"
      },
      "execution_count": 177,
      "outputs": []
    },
    {
      "cell_type": "code",
      "source": [
        "cr = classification_report(pred_y, labels)\n",
        "print(cr)"
      ],
      "metadata": {
        "colab": {
          "base_uri": "https://localhost:8080/"
        },
        "id": "FcSzH_ci6xyz",
        "outputId": "dd45a514-186a-44b5-d75b-a53a280ea40e"
      },
      "execution_count": 178,
      "outputs": [
        {
          "output_type": "stream",
          "name": "stdout",
          "text": [
            "              precision    recall  f1-score   support\n",
            "\n",
            "           0       0.80      0.89      0.84       106\n",
            "           1       0.93      0.87      0.90       183\n",
            "\n",
            "    accuracy                           0.88       289\n",
            "   macro avg       0.87      0.88      0.87       289\n",
            "weighted avg       0.88      0.88      0.88       289\n",
            "\n"
          ]
        }
      ]
    },
    {
      "cell_type": "code",
      "source": [
        "cm = confusion_matrix(labels, pred_y)"
      ],
      "metadata": {
        "id": "aertlnFG6zW0"
      },
      "execution_count": 179,
      "outputs": []
    },
    {
      "cell_type": "code",
      "source": [
        "sns.heatmap(cm, annot=True, fmt='');"
      ],
      "metadata": {
        "colab": {
          "base_uri": "https://localhost:8080/",
          "height": 435
        },
        "id": "DjNoGArf603L",
        "outputId": "385a2a06-c8e6-4bc9-c85e-c0cb68b45540"
      },
      "execution_count": 180,
      "outputs": [
        {
          "output_type": "display_data",
          "data": {
            "text/plain": [
              "<Figure size 640x480 with 2 Axes>"
            ],
            "image/png": "[encoded data removed]"
          },
          "metadata": {}
        }
      ]
    },
    {
      "cell_type": "markdown",
      "source": [
        "### **Dataset de algarves fragmentado**"
      ],
      "metadata": {
        "id": "uJTUfqIQ1rZ7"
      }
    },
    {
      "cell_type": "code",
      "source": [
        "!unzip fragmented_dataset.zip"
      ],
      "metadata": {
        "colab": {
          "base_uri": "https://localhost:8080/"
        },
        "id": "i_FzjI042EwM",
        "outputId": "d5fb876f-97d1-4a49-b4d4-6a6fb3fba981"
      },
      "execution_count": 164,
      "outputs": [
        {
          "output_type": "stream",
          "name": "stdout",
          "text": [
            "Archive:  fragmented_dataset.zip\n",
            "replace fragmented_dataset/no_pools/1.PNG_50x50_0.png? [y]es, [n]o, [A]ll, [N]one, [r]ename: "
          ]
        }
      ]
    },
    {
      "cell_type": "code",
      "source": [
        "algarves_test_dir = 'fragmented_dataset'\n",
        "\n",
        "algarves_ds = tf.keras.preprocessing.image_dataset_from_directory(\n",
        "  algarves_test_dir,\n",
        "  seed=seed,\n",
        "  shuffle=False,\n",
        "  image_size=(img_height, img_width),\n",
        "  batch_size=batch_size\n",
        ")"
      ],
      "metadata": {
        "colab": {
          "base_uri": "https://localhost:8080/"
        },
        "id": "Xv4COk5o2B0L",
        "outputId": "3524aee6-ff1f-4000-dbb1-723a8c5403c5"
      },
      "execution_count": 165,
      "outputs": [
        {
          "output_type": "stream",
          "name": "stdout",
          "text": [
            "Found 2199 files belonging to 2 classes.\n"
          ]
        }
      ]
    },
    {
      "cell_type": "code",
      "source": [
        "pred = resnet_model.predict(algarves_ds)"
      ],
      "metadata": {
        "colab": {
          "base_uri": "https://localhost:8080/"
        },
        "id": "90iSneAQ1sVl",
        "outputId": "6217c053-44f8-4bc1-8fb9-e64aab146a0e"
      },
      "execution_count": 166,
      "outputs": [
        {
          "output_type": "stream",
          "name": "stdout",
          "text": [
            "69/69 [==============================] - 30s 428ms/step\n"
          ]
        }
      ]
    },
    {
      "cell_type": "code",
      "source": [
        "labels = [int(l) for _, labels in algarves_ds for l in labels]\n",
        "pred_y = [x[0] for x in pred]\n",
        "pred_y = np.round(pred_y).astype(int)"
      ],
      "metadata": {
        "id": "cvGAfBrT2mf7"
      },
      "execution_count": 167,
      "outputs": []
    },
    {
      "cell_type": "code",
      "source": [
        "cr = classification_report(pred_y, labels)\n",
        "print(cr)"
      ],
      "metadata": {
        "colab": {
          "base_uri": "https://localhost:8080/"
        },
        "id": "djdJSUAT2jw1",
        "outputId": "41b5f3f8-70b3-45f1-bc2c-66700fa2bcb3"
      },
      "execution_count": 168,
      "outputs": [
        {
          "output_type": "stream",
          "name": "stdout",
          "text": [
            "              precision    recall  f1-score   support\n",
            "\n",
            "           0       0.72      0.99      0.84      1349\n",
            "           1       0.97      0.40      0.57       850\n",
            "\n",
            "    accuracy                           0.76      2199\n",
            "   macro avg       0.84      0.70      0.70      2199\n",
            "weighted avg       0.82      0.76      0.73      2199\n",
            "\n"
          ]
        }
      ]
    },
    {
      "cell_type": "code",
      "source": [
        "cm = confusion_matrix(labels, pred_y)"
      ],
      "metadata": {
        "id": "dbgKjhe52q5T"
      },
      "execution_count": 169,
      "outputs": []
    },
    {
      "cell_type": "code",
      "source": [
        "sns.heatmap(cm, annot=True, fmt='');"
      ],
      "metadata": {
        "colab": {
          "base_uri": "https://localhost:8080/",
          "height": 430
        },
        "id": "J08nxzBr3U98",
        "outputId": "8f89c2d2-a623-4d3f-dfa8-273847a99578"
      },
      "execution_count": 170,
      "outputs": [
        {
          "output_type": "display_data",
          "data": {
            "text/plain": [
              "<Figure size 640x480 with 2 Axes>"
            ],
            "image/png": "[encoded data removed]"
          },
          "metadata": {}
        }
      ]
    }
  ],
  "metadata": {
    "language_info": {
      "name": "python"
    },
    "orig_nbformat": 4,
    "colab": {
      "provenance": []
    },
    "kernelspec": {
      "name": "python3",
      "display_name": "Python 3"
    }
  },
  "nbformat": 4,
  "nbformat_minor": 0
}