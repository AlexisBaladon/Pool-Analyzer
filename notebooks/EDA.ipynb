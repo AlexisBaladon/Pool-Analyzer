{
 "cells": [
  {
   "attachments": {},
   "cell_type": "markdown",
   "metadata": {},
   "source": [
    "# **Pool detection - Exploratory Data Analysis**"
   ]
  },
  {
   "attachments": {},
   "cell_type": "markdown",
   "metadata": {},
   "source": [
    "Dataset obtenido de https://github.com/yacine-benbaccar/Pool-Detection"
   ]
  },
  {
   "attachments": {},
   "cell_type": "markdown",
   "metadata": {},
   "source": [
    "## **Librerías**"
   ]
  },
  {
   "cell_type": "code",
   "execution_count": 1,
   "metadata": {},
   "outputs": [],
   "source": [
    "#%pip install easyimages scipy scikit-image scikit-learn numpy pandas matplotlib seaborn"
   ]
  },
  {
   "cell_type": "code",
   "execution_count": 17,
   "metadata": {},
   "outputs": [],
   "source": [
    "import os\n",
    "import random\n",
    "\n",
    "from skimage.transform import rotate\n",
    "from skimage.util import random_noise\n",
    "from skimage.filters import gaussian\n",
    "from skimage import exposure\n",
    "\n",
    "from skimage.feature import graycomatrix, graycoprops\n",
    "from sklearn.feature_selection import mutual_info_classif\n",
    "from sklearn.model_selection import train_test_split\n",
    "from sklearn.preprocessing import StandardScaler\n",
    "from sklearn.svm import SVC\n",
    "from sklearn.pipeline import Pipeline\n",
    "from sklearn.base import BaseEstimator\n",
    "from sklearn.metrics import accuracy_score, confusion_matrix, classification_report\n",
    "\n",
    "import cv2\n",
    "import numpy as np\n",
    "import pandas as pd\n",
    "import seaborn as sns\n",
    "import scipy\n",
    "import matplotlib.pyplot as plt\n",
    "%matplotlib inline"
   ]
  },
  {
   "attachments": {},
   "cell_type": "markdown",
   "metadata": {},
   "source": [
    "## **Constantes**"
   ]
  },
  {
   "cell_type": "code",
   "execution_count": 18,
   "metadata": {},
   "outputs": [],
   "source": [
    "DATA_DIR = os.path.join('..', 'data')\n",
    "TRAIN_DIR = os.path.join(DATA_DIR, 'train')\n",
    "VALIDATION_DIR = os.path.join(DATA_DIR, 'validation')\n",
    "FEATURES_DIR = os.path.join(DATA_DIR, 'features')\n",
    "POSITIVE_LABEL = 'pools'\n",
    "NEGATIVE_LABEL = 'no_pools'\n",
    "\n",
    "USE_CACHE = False\n",
    "PLOT_RESULTS = False\n",
    "SEED = 2\n",
    "random.seed(SEED)"
   ]
  },
  {
   "attachments": {},
   "cell_type": "markdown",
   "metadata": {},
   "source": [
    "### **Análisis del Conjunto de Datos**"
   ]
  },
  {
   "cell_type": "code",
   "execution_count": 19,
   "metadata": {},
   "outputs": [],
   "source": [
    "train_filenames = [] \n",
    "for label in os.listdir(TRAIN_DIR):\n",
    "    images = os.listdir(os.path.join(TRAIN_DIR, label))\n",
    "    train_filenames.extend((image, label) for image in images)\n",
    "    \n",
    "validation_filenames = []\n",
    "for label in os.listdir(VALIDATION_DIR):\n",
    "    images = os.listdir(os.path.join(VALIDATION_DIR, label))\n",
    "    validation_filenames.extend((image, label) for image in images)"
   ]
  },
  {
   "attachments": {},
   "cell_type": "markdown",
   "metadata": {},
   "source": [
    "**Tamaño de conjuntos**"
   ]
  },
  {
   "cell_type": "code",
   "execution_count": 20,
   "metadata": {},
   "outputs": [
    {
     "name": "stdout",
     "output_type": "stream",
     "text": [
      "Porcentaje de imágenes de train: 0.8846653671215075\n",
      "\n",
      "Número de imágenes de train: 2723\n",
      "Número de imágenes de validación: 355\n",
      "\n",
      "Número de imágenes positivas en train: 1398\n",
      "Número de imágenes negativas en train: 1325\n",
      "\n",
      "Número de imágenes positivas en validación: 179\n",
      "Número de imágenes negativas en validación: 176\n"
     ]
    }
   ],
   "source": [
    "train_filenames_length = len(train_filenames)\n",
    "validation_filenames_length = len(validation_filenames)\n",
    "positive_length = len([x for x in train_filenames if x[1] == POSITIVE_LABEL])\n",
    "negative_train_length = len([x for x in train_filenames if x[1] == NEGATIVE_LABEL])\n",
    "positive_validation_length = len([x for x in validation_filenames if x[1] == POSITIVE_LABEL])\n",
    "negative_validation_length = len([x for x in validation_filenames if x[1] == NEGATIVE_LABEL])\n",
    "train_length_rate = train_filenames_length / (train_filenames_length + validation_filenames_length)\n",
    "\n",
    "print('Porcentaje de imágenes de train:', train_length_rate); print()\n",
    "print('Número de imágenes de train:', train_filenames_length)\n",
    "print('Número de imágenes de validación:', validation_filenames_length); print()\n",
    "print('Número de imágenes positivas en train:', positive_length)\n",
    "print('Número de imágenes negativas en train:', negative_train_length); print()\n",
    "print('Número de imágenes positivas en validación:', positive_validation_length)\n",
    "print('Número de imágenes negativas en validación:', negative_validation_length)"
   ]
  },
  {
   "attachments": {},
   "cell_type": "markdown",
   "metadata": {},
   "source": [
    "**Tamaño de imágenes**"
   ]
  },
  {
   "cell_type": "code",
   "execution_count": 21,
   "metadata": {},
   "outputs": [],
   "source": [
    "train_images = []\n",
    "validation_images = []\n",
    "images_dimensions = set()\n",
    "\n",
    "for filename, label in train_filenames:\n",
    "    image_dir = os.path.join(TRAIN_DIR, label, filename)\n",
    "    image = plt.imread(image_dir)\n",
    "    train_images.append((image_dir, image, label))\n",
    "    images_dimensions.add(image.shape)\n",
    "for filename, label in validation_filenames:\n",
    "    image_dir = os.path.join(VALIDATION_DIR, label, filename)\n",
    "    image = plt.imread(image_dir)\n",
    "    validation_images.append((image_dir, image, label))\n",
    "    images_dimensions.add(image.shape)"
   ]
  },
  {
   "cell_type": "code",
   "execution_count": 22,
   "metadata": {},
   "outputs": [
    {
     "name": "stdout",
     "output_type": "stream",
     "text": [
      "Cantidad de dimensiones de las imágenes: 1\n",
      "Dimensiones de las imágenes: {(50, 50, 3)}\n"
     ]
    }
   ],
   "source": [
    "print('Cantidad de dimensiones de las imágenes:', len(images_dimensions))\n",
    "print('Dimensiones de las imágenes:', images_dimensions)"
   ]
  },
  {
   "attachments": {},
   "cell_type": "markdown",
   "metadata": {},
   "source": [
    "**Reordenar datos**"
   ]
  },
  {
   "cell_type": "code",
   "execution_count": 23,
   "metadata": {},
   "outputs": [],
   "source": [
    "random.shuffle(train_filenames)\n",
    "random.shuffle(validation_filenames)"
   ]
  },
  {
   "attachments": {},
   "cell_type": "markdown",
   "metadata": {},
   "source": [
    "**Mostrar primeros datos**"
   ]
  },
  {
   "cell_type": "code",
   "execution_count": 24,
   "metadata": {},
   "outputs": [],
   "source": [
    "def plot_image_samples(filenames, n_samples=4):\n",
    "    _, ax = plt.subplots(2, n_samples//2, figsize=(20, 10))\n",
    "    for i, (image, label) in enumerate(filenames):\n",
    "        row_idx = 0 if i < n_samples//2 else 1\n",
    "        col_idx = i if i < n_samples//2 else i - n_samples//2\n",
    "        image_dir = os.path.join(TRAIN_DIR, label, image)\n",
    "        ax[row_idx, col_idx].imshow(plt.imread(image_dir))\n",
    "        ax[row_idx, col_idx].set_title(label)\n",
    "        ax[row_idx, col_idx].axis('off')\n",
    "    plt.tight_layout()"
   ]
  },
  {
   "cell_type": "code",
   "execution_count": 25,
   "metadata": {},
   "outputs": [],
   "source": [
    "first_number = 8\n",
    "positive_images_dirs = list(filter(lambda x: x[1] == POSITIVE_LABEL, train_filenames))[:first_number//2]\n",
    "negative_images_dirs = list(filter(lambda x: x[1] == NEGATIVE_LABEL, train_filenames))[:first_number//2]\n",
    "first_images = [*positive_images_dirs, *negative_images_dirs]\n",
    "\n",
    "if PLOT_RESULTS:\n",
    "    plot_image_samples(first_images, n_samples=first_number)"
   ]
  },
  {
   "attachments": {},
   "cell_type": "markdown",
   "metadata": {},
   "source": [
    "**Separar conjunto de validación**"
   ]
  },
  {
   "cell_type": "code",
   "execution_count": 26,
   "metadata": {},
   "outputs": [],
   "source": [
    "dev_size = (len(validation_images) + len(train_images)) // 10\n",
    "y_original_train = [x[2] for x in train_images]\n",
    "train_images, dev_images = train_test_split(train_images, test_size=dev_size, random_state=SEED, stratify=y_original_train)"
   ]
  },
  {
   "cell_type": "markdown",
   "metadata": {},
   "source": [
    "### **Aumentación de datos**"
   ]
  },
  {
   "cell_type": "code",
   "execution_count": 27,
   "metadata": {},
   "outputs": [],
   "source": [
    "augmentation_functions = {\n",
    "    'rotate': lambda image: rotate(image, random.randint(0, 360)),\n",
    "    'noise': lambda image: random_noise(image),\n",
    "    'gamma': lambda image: exposure.adjust_gamma(image, random.uniform(0.5, 1.5)),\n",
    "    'gaussian': lambda image: gaussian(image),\n",
    "}\n",
    "\n",
    "def augment_images(\n",
    "    images, \n",
    "    augment_rate=0.2,\n",
    "    rotation_factor=0.05,\n",
    "    noise_factor=0.025,\n",
    "    gamma_factor=0.025,\n",
    "    gaussian_factor=0.1,\n",
    "):\n",
    "    augmentation_rates = [rotation_factor, noise_factor, gamma_factor, gaussian_factor]\n",
    "    rates = sum(augmentation_rates)\n",
    "    if rates != augment_rate:\n",
    "        print('Warning: Augment rate is not equal to sum of augmentation rates')\n",
    "        gaussian_factor += augment_rate - rates\n",
    "\n",
    "    augmented_images = []\n",
    "    for (image_dir, image, label) in images:\n",
    "        if random.random() < augment_rate:\n",
    "            function = random.choices(\n",
    "                list(augmentation_functions.keys()), \n",
    "                weights=[rotation_factor, noise_factor, gamma_factor, gaussian_factor]\n",
    "            )[0]\n",
    "            augmented_image = augmentation_functions[function](image)\n",
    "            min_image, max_image = np.min(augmented_image), np.max(augmented_image)\n",
    "            augmented_image = ((augmented_image - min_image) / (max_image - min_image)) * 255\n",
    "            augmented_image = augmented_image.astype(np.uint8)\n",
    "            augmented_images.append((image_dir, augmented_image, label, image))\n",
    "    return augmented_images"
   ]
  },
  {
   "cell_type": "code",
   "execution_count": 28,
   "metadata": {},
   "outputs": [
    {
     "name": "stderr",
     "output_type": "stream",
     "text": [
      "f:\\AlexisF\\python\\lib\\site-packages\\skimage\\_shared\\utils.py:348: RuntimeWarning: Images with dimensions (M, N, 3) are interpreted as 2D+RGB by default. Use `multichannel=False` to interpret as 3D image with last dimension of length 3.\n",
      "  return func(*args, **kwargs)\n"
     ]
    }
   ],
   "source": [
    "augmented_train_images = augment_images(train_images)"
   ]
  },
  {
   "cell_type": "code",
   "execution_count": 29,
   "metadata": {},
   "outputs": [],
   "source": [
    "def compare_augmented_images(augmented_images, showed_images=5):\n",
    "    fig, ax = plt.subplots(2, showed_images, figsize=(20, 5))\n",
    "    for idx, (_, image, label, original_image) in enumerate(augmented_images[:showed_images]):\n",
    "        ax[0, idx].imshow(image)\n",
    "        ax[0, idx].set_title(f'{idx}- {label}')\n",
    "        ax[0, idx].axis('off')\n",
    "\n",
    "        ax[1, idx].imshow(original_image)\n",
    "        ax[1, idx].set_title(f'{idx}- Augmented')\n",
    "        ax[1, idx].axis('off')\n",
    "    plt.tight_layout()"
   ]
  },
  {
   "cell_type": "code",
   "execution_count": 30,
   "metadata": {},
   "outputs": [
    {
     "data": {
      "image/png": "[encoded data removed]",
      "text/plain": [
       "<Figure size 2000x500 with 10 Axes>"
      ]
     },
     "metadata": {},
     "output_type": "display_data"
    }
   ],
   "source": [
    "if PLOT_RESULTS:\n",
    "    compare_augmented_images(augmented_train_images)"
   ]
  },
  {
   "cell_type": "code",
   "execution_count": 31,
   "metadata": {},
   "outputs": [],
   "source": [
    "train_images = [*train_images, *[augmented_image[:3] for augmented_image in augmented_train_images]]"
   ]
  },
  {
   "attachments": {},
   "cell_type": "markdown",
   "metadata": {},
   "source": [
    "### **Features**"
   ]
  },
  {
   "attachments": {},
   "cell_type": "markdown",
   "metadata": {},
   "source": [
    "##### **Filtros de Gabor**"
   ]
  },
  {
   "cell_type": "code",
   "execution_count": 32,
   "metadata": {},
   "outputs": [],
   "source": [
    "# https://www.freedomvc.com/index.php/2021/10/16/gabor-filter-in-edge-detection/\n",
    "\n",
    "def create_gaborfilter():\n",
    "    # This function is designed to produce a set of GaborFilters \n",
    "    # an even distribution of theta values equally distributed amongst pi rad / 180 degree\n",
    "     \n",
    "    filters = []\n",
    "    num_filters = 16\n",
    "    ksize = 35  # The local area to evaluate\n",
    "    sigma = 3.0  # Larger Values produce more edges\n",
    "    lambd = 10.0\n",
    "    gamma = 0.5\n",
    "    psi = 0  # Offset value - lower generates cleaner results\n",
    "    for theta in np.arange(0, np.pi, np.pi / num_filters):  # Theta is the orientation for edge detection\n",
    "        kern = cv2.getGaborKernel((ksize, ksize), sigma, theta, lambd, gamma, psi, ktype=cv2.CV_64F)\n",
    "        kern /= 1.0 * kern.sum()  # Brightness normalization\n",
    "        filters.append(kern)\n",
    "    return filters\n",
    "\n",
    "def apply_filter(img, filters):\n",
    "# This general function is designed to apply filters to our image\n",
    "     \n",
    "    # First create a numpy array the same size as our input image\n",
    "    newimage = np.zeros_like(img)\n",
    "     \n",
    "    # Starting with a blank image, we loop through the images and apply our Gabor Filter\n",
    "    # On each iteration, we take the highest value (super impose), until we have the max value across all filters\n",
    "    # The final image is returned\n",
    "    depth = -1 # remain depth same as original image\n",
    "     \n",
    "    for kern in filters:  # Loop through the kernels in our GaborFilter\n",
    "        image_filter = cv2.filter2D(img, depth, kern)  #Apply filter to image\n",
    "         \n",
    "        # Using Numpy.maximum to compare our filter and cumulative image, taking the higher value (max)\n",
    "        np.maximum(newimage, image_filter, newimage)\n",
    "    return newimage"
   ]
  },
  {
   "cell_type": "code",
   "execution_count": 33,
   "metadata": {},
   "outputs": [],
   "source": [
    "gfilters = create_gaborfilter()\n",
    "train_images = [(x[0], apply_filter(x[1], gfilters), x[2]) for x in train_images]\n",
    "dev_images = [(x[0], apply_filter(x[1], gfilters), x[2]) for x in dev_images]"
   ]
  },
  {
   "cell_type": "code",
   "execution_count": 34,
   "metadata": {},
   "outputs": [],
   "source": [
    "if PLOT_RESULTS:\n",
    "    fig, ax = plt.subplots(2, 4, figsize=(20, 10))\n",
    "    for i, (image_dir, image, label) in enumerate(train_images[:8]):\n",
    "        row_idx = 0 if i < 4 else 1\n",
    "        col_idx = i if i < 4 else i - 4\n",
    "        ax[row_idx, col_idx].imshow(image)\n",
    "        ax[row_idx, col_idx].set_title(label)\n",
    "        ax[row_idx, col_idx].axis('off')"
   ]
  },
  {
   "attachments": {},
   "cell_type": "markdown",
   "metadata": {},
   "source": [
    "#### **Features a nivel de canal**"
   ]
  },
  {
   "attachments": {},
   "cell_type": "markdown",
   "metadata": {},
   "source": [
    "**Medidas de tendencia central**"
   ]
  },
  {
   "cell_type": "code",
   "execution_count": 35,
   "metadata": {},
   "outputs": [],
   "source": [
    "def calculate_mean(image_gray: np.ndarray):\n",
    "    return image_gray.mean()\n",
    "\n",
    "def calculate_median(image_gray: np.ndarray):\n",
    "    return np.median(image_gray)\n",
    "\n",
    "def calculate_mode(image_gray: np.ndarray):\n",
    "    counts = [0] * 256\n",
    "    for row in image_gray:\n",
    "        for pixel in row:\n",
    "            counts[pixel] += 1\n",
    "    return np.argmax(counts)"
   ]
  },
  {
   "attachments": {},
   "cell_type": "markdown",
   "metadata": {},
   "source": [
    "**Medidas de dispersión**"
   ]
  },
  {
   "cell_type": "code",
   "execution_count": 36,
   "metadata": {},
   "outputs": [],
   "source": [
    "def calculate_std(image_gray: np.ndarray):\n",
    "    return image_gray.std()"
   ]
  },
  {
   "attachments": {},
   "cell_type": "markdown",
   "metadata": {},
   "source": [
    "**Quantiles**"
   ]
  },
  {
   "cell_type": "code",
   "execution_count": 37,
   "metadata": {},
   "outputs": [],
   "source": [
    "def calculate_min(image_gray: np.ndarray):\n",
    "    return image_gray.min()\n",
    "\n",
    "def calculate_max(image_gray: np.ndarray):\n",
    "    return image_gray.max()\n",
    "\n",
    "def calculate_range(image_gray: np.ndarray):\n",
    "    return image_gray.max() - image_gray.min()\n",
    "\n",
    "def calculate_quantile(image_gray: np.ndarray, q: float):\n",
    "    bin_count = 256\n",
    "    hist, bin_edges = np.histogram(image_gray, bins=bin_count)\n",
    "    cum_values = np.cumsum(hist * np.diff(bin_edges))\n",
    "    quantile = np.interp(q * 100, cum_values, bin_edges[:-1])\n",
    "    return quantile\n",
    "\n",
    "def calculate_iqr(image_gray: np.ndarray):\n",
    "    return calculate_quantile(image_gray, 0.75) - calculate_quantile(image_gray, 0.25)"
   ]
  },
  {
   "attachments": {},
   "cell_type": "markdown",
   "metadata": {},
   "source": [
    "**Probabilidad**"
   ]
  },
  {
   "cell_type": "code",
   "execution_count": 38,
   "metadata": {},
   "outputs": [],
   "source": [
    "def entropy(image_gray: np.ndarray):\n",
    "    hist, _ = np.histogram(image_gray, bins=256)\n",
    "    hist = hist[hist != 0]\n",
    "    prob = hist / hist.sum()\n",
    "    return -np.sum(prob * np.log2(prob))\n",
    "\n",
    "def calculate_skewness(image_gray: np.ndarray):\n",
    "    return scipy.stats.skew(image_gray, axis=None)\n",
    "\n",
    "def calculate_kurtosis(image_gray: np.ndarray):\n",
    "    return scipy.stats.kurtosis(image_gray, axis=None)"
   ]
  },
  {
   "cell_type": "code",
   "execution_count": 39,
   "metadata": {},
   "outputs": [],
   "source": [
    "model_channel_feature_functions = {\n",
    "    'mean': calculate_mean,\n",
    "    'std': calculate_std,\n",
    "    'median': calculate_median,\n",
    "    'mode': calculate_mode,\n",
    "    'min': calculate_min,\n",
    "    'max': calculate_max,\n",
    "    'range': calculate_range,\n",
    "    'skewness': calculate_skewness,\n",
    "    'kurtosis': calculate_kurtosis,\n",
    "    'entropy': entropy,\n",
    "    'quantile_0.25': lambda img: calculate_quantile(img, q=0.25),\n",
    "    'quantile_0.75': lambda img: calculate_quantile(img, q=0.75),\n",
    "    'iqr': calculate_iqr,\n",
    "}"
   ]
  },
  {
   "cell_type": "code",
   "execution_count": 40,
   "metadata": {},
   "outputs": [],
   "source": [
    "def create_channel_feature_df(images, model_feature_functions, include_grayscale=True):\n",
    "    channels = ['red', 'green', 'blue'] + (['grayscale'] if include_grayscale else [])\n",
    "    pixels_df = {'image_id': [], 'feature_name': [], 'feature_value': [], 'label': [], 'channel': []}\n",
    "\n",
    "    for id, image, label in images:\n",
    "        for feature_name, feature_function in model_feature_functions.items():\n",
    "            for chnl in range(3):\n",
    "                pixels_df['image_id'].append(id)\n",
    "                pixels_df['feature_value'].append(feature_function(image[:, :, chnl]))\n",
    "                pixels_df['feature_name'].append(feature_name)\n",
    "                pixels_df['channel'].append(channels[chnl])\n",
    "                pixels_df['label'].append(label)\n",
    "\n",
    "            if include_grayscale:\n",
    "                pixels_df['image_id'].append(id)\n",
    "                averaged_image = np.clip(image.mean(axis=2).astype(int), 0, 255)\n",
    "                pixels_df['feature_value'].append(feature_function(averaged_image))\n",
    "                pixels_df['feature_name'].append(feature_name)\n",
    "                pixels_df['channel'].append('grayscale')\n",
    "                pixels_df['label'].append(label)\n",
    "\n",
    "    df = pd.DataFrame(pixels_df)\n",
    "    df['feature_value'] = df['feature_value'].astype(float)\n",
    "    return df"
   ]
  },
  {
   "cell_type": "code",
   "execution_count": 41,
   "metadata": {},
   "outputs": [],
   "source": [
    "def scale_feature_df(channel_feature_df: pd.DataFrame):\n",
    "    channel_feature_df = channel_feature_df.copy()\n",
    "    for feature_name in channel_feature_df['feature_name'].unique():\n",
    "        feature_values = channel_feature_df[channel_feature_df['feature_name'] == feature_name]['feature_value']\n",
    "        current_features_max = feature_values.max()\n",
    "        current_features_min = feature_values.min()\n",
    "        feature_values = (feature_values - current_features_min) / (current_features_max - current_features_min)\n",
    "        channel_feature_df.loc[channel_feature_df['feature_name'] == feature_name, 'feature_value'] = feature_values\n",
    "    return channel_feature_df"
   ]
  },
  {
   "cell_type": "code",
   "execution_count": 42,
   "metadata": {},
   "outputs": [],
   "source": [
    "if USE_CACHE and os.path.exists(os.path.join(FEATURES_DIR, 'channel_feature_df.csv')):\n",
    "    channel_feature_df = pd.read_csv(os.path.join(FEATURES_DIR, 'channel_feature_df.csv'))\n",
    "    dev_channel_feature_df = pd.read_csv(os.path.join(FEATURES_DIR, 'dev_channel_feature_df.csv'))\n",
    "else:\n",
    "    channel_feature_df = create_channel_feature_df(train_images, model_channel_feature_functions)\n",
    "    channel_feature_df.to_csv(os.path.join(FEATURES_DIR, 'channel_feature_df.csv'), index=False)\n",
    "    dev_channel_feature_df = create_channel_feature_df(dev_images, model_channel_feature_functions)\n",
    "    dev_channel_feature_df.to_csv(os.path.join(FEATURES_DIR, 'dev_channel_feature_df.csv'), index=False)"
   ]
  },
  {
   "attachments": {},
   "cell_type": "markdown",
   "metadata": {},
   "source": [
    "#### **Visualización de Datos**"
   ]
  },
  {
   "attachments": {},
   "cell_type": "markdown",
   "metadata": {},
   "source": [
    "##### **Separando por canal**"
   ]
  },
  {
   "attachments": {},
   "cell_type": "markdown",
   "metadata": {},
   "source": [
    "**Distribución de features (nivel general)**"
   ]
  },
  {
   "cell_type": "code",
   "execution_count": 43,
   "metadata": {},
   "outputs": [],
   "source": [
    "def plot_histogram_features_violinplot(feature_df: pd.DataFrame):\n",
    "    _, ax = plt.subplots(nrows=len(feature_df['channel'].unique()), figsize=(20, 20))\n",
    "    for i, channel in enumerate(feature_df['channel'].unique()):\n",
    "        current_feature_df = feature_df[feature_df['channel'] == channel]\n",
    "        scaled_feature_df = scale_feature_df(current_feature_df)\n",
    "        sns.violinplot(data=scaled_feature_df, x='feature_name', y='feature_value', hue='label', ax=ax[i])\n",
    "        ax[i].legend(fontsize=10)\n",
    "        ax[i].set_title(channel)\n",
    "        plt.tight_layout()"
   ]
  },
  {
   "cell_type": "code",
   "execution_count": 44,
   "metadata": {},
   "outputs": [],
   "source": [
    "if PLOT_RESULTS:\n",
    "    plot_histogram_features_violinplot(channel_feature_df)"
   ]
  },
  {
   "attachments": {},
   "cell_type": "markdown",
   "metadata": {},
   "source": [
    "**Distribución de features (nivel individual)**"
   ]
  },
  {
   "cell_type": "code",
   "execution_count": 45,
   "metadata": {},
   "outputs": [],
   "source": [
    "def plot_channel_feature_df(pixels_df, color='red', secondary_color='blue', width=None, height=None):\n",
    "    facet_grid = sns.displot(pixels_df, x='feature_value', hue='label', row='feature_name', col='channel', fill=True, palette=[secondary_color, color], kind='kde')\n",
    "    facet_grid.fig.set_figwidth(width) if width else None\n",
    "    facet_grid.fig.set_figheight(height) if height else None\n",
    "    plt.legend(fontsize=10)"
   ]
  },
  {
   "cell_type": "code",
   "execution_count": 46,
   "metadata": {},
   "outputs": [],
   "source": [
    "if PLOT_RESULTS:\n",
    "    for feature_name in model_channel_feature_functions.keys():\n",
    "        current_feature_df = channel_feature_df[channel_feature_df['feature_name'] == feature_name]\n",
    "        plot_channel_feature_df(current_feature_df, color='red', secondary_color='blue')"
   ]
  },
  {
   "attachments": {},
   "cell_type": "markdown",
   "metadata": {},
   "source": [
    "##### **Features de histograma**"
   ]
  },
  {
   "cell_type": "code",
   "execution_count": 47,
   "metadata": {},
   "outputs": [],
   "source": [
    "def calculate_mean_histogram(histogram: np.ndarray, numBins: int):\n",
    "    return np.sum((np.arange(numBins) / numBins) * histogram)\n",
    "\n",
    "def calculate_std_histogram(histogram: np.ndarray, numBins: int):\n",
    "    mean = calculate_mean_histogram(histogram, numBins)\n",
    "    return np.sqrt(np.sum(((np.arange(numBins) / numBins) - mean) ** 2 * histogram))\n",
    "\n",
    "def calculate_median_histogram(histogram: np.ndarray, _: int):\n",
    "    cumsum = np.cumsum(histogram)\n",
    "    return np.argmax(cumsum >= cumsum[-1] / 2)\n",
    "\n",
    "def calculate_mode_histogram(histogram: np.ndarray, _: int):\n",
    "    return np.argmax(histogram)\n",
    "\n",
    "def calculate_min_histogram(histogram: np.ndarray, _: int):\n",
    "    return np.argmin(histogram)\n",
    "\n",
    "def calculate_max_histogram(histogram: np.ndarray, _: int):\n",
    "    return np.argmax(histogram)\n",
    "\n",
    "def calculate_range_histogram(histogram: np.ndarray, _: int):\n",
    "    return np.argmax(histogram) - np.argmin(histogram)\n",
    "\n",
    "def calculate_quantile_histogram(histogram: np.ndarray, numBins: int, q: float):\n",
    "    cum_values = np.cumsum(histogram)\n",
    "    quantile = np.interp(q * 100, cum_values, np.arange(numBins))\n",
    "    return quantile\n",
    "\n",
    "def calculate_iqr_histogram(histogram: np.ndarray, numBins: int):\n",
    "    return calculate_quantile_histogram(histogram, numBins, q=0.75) - calculate_quantile_histogram(histogram, numBins, q=0.25)\n",
    "\n",
    "def calculate_skewness_histogram(histogram: np.ndarray, numBins: int):\n",
    "    mean = calculate_mean_histogram(histogram, numBins)\n",
    "    skewness = np.sum(((histogram - mean)**3) * histogram)\n",
    "    return skewness\n",
    "\n",
    "def calculate_kurtosis_histogram(histogram: np.ndarray, numBins: int):\n",
    "    mean = calculate_mean_histogram(histogram, numBins)\n",
    "    kurtosis = np.sum(((histogram - mean)**4) * histogram)\n",
    "    return kurtosis\n",
    "\n",
    "def calculate_uniformity_histogram(histogram: np.ndarray, _: int):\n",
    "    return np.sum(histogram ** 2)\n",
    "\n",
    "def calculate_entropy_histogram(histogram: np.ndarray, numBins: int):\n",
    "    entropy = -np.sum(histogram * np.log2(histogram + 1e-12)) / np.log2(numBins)\n",
    "    return entropy\n",
    "\n",
    "def calculate_R_histogram(histogram: np.ndarray, _: int):\n",
    "    R = 1 - 1 / (1 + np.std(histogram)**2)\n",
    "    return R"
   ]
  },
  {
   "cell_type": "code",
   "execution_count": 48,
   "metadata": {},
   "outputs": [],
   "source": [
    "model_histogram_feature_functions = {\n",
    "    'mean': calculate_mean_histogram,\n",
    "    'std': calculate_std_histogram,\n",
    "    'median': calculate_median_histogram,\n",
    "    'mode': calculate_mode_histogram,\n",
    "    'min': calculate_min_histogram,\n",
    "    'max': calculate_max_histogram,\n",
    "    'range': calculate_range_histogram,\n",
    "    'skewness': calculate_skewness_histogram,\n",
    "    'kurtosis': calculate_kurtosis_histogram,\n",
    "    'uniformity': calculate_uniformity_histogram,\n",
    "    'entropy': calculate_entropy_histogram,\n",
    "    'R': calculate_R_histogram, \n",
    "    # 'quantile_0.25': lambda hist, numBins: calculate_quantile_histogram(hist, numBins, q=0.25),\n",
    "    # 'quantile_0.75': lambda hist, numBins: calculate_quantile_histogram(hist, numBins, q=0.75),\n",
    "    # 'iqr': calculate_iqr_histogram,\n",
    "}"
   ]
  },
  {
   "cell_type": "code",
   "execution_count": 49,
   "metadata": {},
   "outputs": [],
   "source": [
    "def to_grayscale(images: list[tuple]):\n",
    "    return [(\n",
    "        id, \n",
    "        np.clip(image.mean(axis=2).astype(int), 0, 255), \n",
    "        label\n",
    "    ) for id, image, label in images]\n",
    "\n",
    "def to_histogram(image_gray: np.ndarray, bins: int = 256):\n",
    "    hist, _ = np.histogram(image_gray, bins=bins, density=True)\n",
    "    return hist"
   ]
  },
  {
   "cell_type": "code",
   "execution_count": 50,
   "metadata": {},
   "outputs": [],
   "source": [
    "def create_histogram_features_df(images: list[tuple], model_histogram_feature_functions: dict, bins=256):\n",
    "    pixels_df = {'image_id': [], 'feature_name': [], 'feature_value': [], 'label': []}\n",
    "    grayscale_images = to_grayscale(images)\n",
    "\n",
    "    for id, image, label in grayscale_images:\n",
    "        image_histogram = to_histogram(image, bins=bins)\n",
    "\n",
    "        for feature_name, feature_function in model_histogram_feature_functions.items():\n",
    "            pixels_df['image_id'].append(id)\n",
    "            pixels_df['feature_value'].append(feature_function(image_histogram, bins))\n",
    "            pixels_df['feature_name'].append(feature_name)\n",
    "            pixels_df['label'].append(label)\n",
    "\n",
    "    df = pd.DataFrame(pixels_df)\n",
    "    df['feature_value'] = df['feature_value'].astype(float)\n",
    "    return df"
   ]
  },
  {
   "cell_type": "code",
   "execution_count": 51,
   "metadata": {},
   "outputs": [],
   "source": [
    "if USE_CACHE and os.path.exists(os.path.join(FEATURES_DIR, 'histogram_feature_df.csv')):\n",
    "    histogram_feature_df = pd.read_csv(os.path.join(FEATURES_DIR, 'histogram_feature_df.csv'))\n",
    "    dev_histogram_feature_df = pd.read_csv(os.path.join(FEATURES_DIR, 'dev_histogram_feature_df.csv'))\n",
    "else:\n",
    "    histogram_feature_df = create_histogram_features_df(train_images, model_histogram_feature_functions)\n",
    "    histogram_feature_df.to_csv(os.path.join(FEATURES_DIR, 'histogram_feature_df.csv'), index=False)\n",
    "    dev_histogram_feature_df = create_histogram_features_df(dev_images, model_histogram_feature_functions)\n",
    "    dev_histogram_feature_df.to_csv(os.path.join(FEATURES_DIR, 'dev_histogram_feature_df.csv'), index=False)"
   ]
  },
  {
   "cell_type": "code",
   "execution_count": 52,
   "metadata": {},
   "outputs": [],
   "source": [
    "def plot_features_violinplot(feature_df: pd.DataFrame):\n",
    "    _, ax = plt.subplots(nrows=1, figsize=(20, 5))\n",
    "    feature_df = scale_feature_df(feature_df)\n",
    "    sns.violinplot(data=feature_df, x='feature_name', y='feature_value', hue='label', ax=ax)\n",
    "    ax.legend(fontsize=10)\n",
    "    plt.tight_layout()"
   ]
  },
  {
   "cell_type": "code",
   "execution_count": 53,
   "metadata": {},
   "outputs": [],
   "source": [
    "if PLOT_RESULTS:\n",
    "    plot_features_violinplot(histogram_feature_df)"
   ]
  },
  {
   "cell_type": "code",
   "execution_count": 54,
   "metadata": {},
   "outputs": [],
   "source": [
    "def plot_feature_df(pixels_df, color='red', secondary_color='blue', width=None, height=None):\n",
    "    facet_grid = sns.displot(pixels_df, x='feature_value', hue='label', fill=True, palette=[secondary_color, color], kind='kde')\n",
    "    facet_grid.fig.set_figwidth(width) if width else None\n",
    "    facet_grid.fig.set_figheight(height) if height else None\n",
    "    plt.legend(fontsize=10)"
   ]
  },
  {
   "cell_type": "code",
   "execution_count": 55,
   "metadata": {},
   "outputs": [],
   "source": [
    "if PLOT_RESULTS:\n",
    "    for feature_name in model_histogram_feature_functions.keys():\n",
    "        current_feature_df = histogram_feature_df[histogram_feature_df['feature_name'] == feature_name]\n",
    "        plot_feature_df(current_feature_df, color='red', secondary_color='blue')"
   ]
  },
  {
   "attachments": {},
   "cell_type": "markdown",
   "metadata": {},
   "source": [
    "##### **Matriz de correlación**"
   ]
  },
  {
   "cell_type": "code",
   "execution_count": 57,
   "metadata": {},
   "outputs": [],
   "source": [
    "def create_coocurrence_matrix_df(images: list[tuple], distance, angle, levels=256):\n",
    "    pixels_df = {'image_id': [], 'feature_name': [], 'feature_value': [], 'label': []}\n",
    "    grayscale_images = to_grayscale(images)\n",
    "\n",
    "    for id, image, label in grayscale_images:\n",
    "        co_occurrence_matrix = graycomatrix(\n",
    "            image, \n",
    "            [distance], \n",
    "            [angle], \n",
    "            levels=levels, \n",
    "            normed=True,\n",
    "            symmetric=True,\n",
    "        )\n",
    "\n",
    "        for feature in ['contrast', 'dissimilarity', 'homogeneity', 'energy', 'correlation']:\n",
    "            pixels_df['image_id'].append(id)\n",
    "            pixels_df['feature_value'].append(graycoprops(co_occurrence_matrix, feature)[0, 0])\n",
    "            pixels_df['feature_name'].append(feature)\n",
    "            pixels_df['label'].append(label)\n",
    "\n",
    "    df = pd.DataFrame(pixels_df)\n",
    "    df['feature_value'] = df['feature_value'].astype(float)\n",
    "    return df"
   ]
  },
  {
   "cell_type": "code",
   "execution_count": 58,
   "metadata": {},
   "outputs": [],
   "source": [
    "if USE_CACHE and os.path.exists(os.path.join(FEATURES_DIR, 'coocurrence_matrix_df.csv')):\n",
    "    coocurrence_matrix_df = pd.read_csv(os.path.join(FEATURES_DIR, 'coocurrence_matrix_df.csv'))\n",
    "    dev_coocurrence_matrix_df = pd.read_csv(os.path.join(FEATURES_DIR, 'dev_coocurrence_matrix_df.csv'))\n",
    "else:\n",
    "    coocurrence_matrix_df = create_coocurrence_matrix_df(train_images, distance=1, angle=0)\n",
    "    coocurrence_matrix_df.to_csv(os.path.join(FEATURES_DIR, 'coocurrence_matrix_df.csv'), index=False)\n",
    "    dev_coocurrence_matrix_df = create_coocurrence_matrix_df(dev_images, distance=1, angle=0)\n",
    "    dev_coocurrence_matrix_df.to_csv(os.path.join(FEATURES_DIR, 'dev_coocurrence_matrix_df.csv'), index=False)"
   ]
  },
  {
   "cell_type": "code",
   "execution_count": 59,
   "metadata": {},
   "outputs": [],
   "source": [
    "if PLOT_RESULTS:\n",
    "    plot_features_violinplot(coocurrence_matrix_df)"
   ]
  },
  {
   "cell_type": "code",
   "execution_count": 60,
   "metadata": {},
   "outputs": [
    {
     "data": {
      "text/html": [
       "<div>\n",
       "<style scoped>\n",
       "    .dataframe tbody tr th:only-of-type {\n",
       "        vertical-align: middle;\n",
       "    }\n",
       "\n",
       "    .dataframe tbody tr th {\n",
       "        vertical-align: top;\n",
       "    }\n",
       "\n",
       "    .dataframe thead th {\n",
       "        text-align: right;\n",
       "    }\n",
       "</style>\n",
       "<table border=\"1\" class=\"dataframe\">\n",
       "  <thead>\n",
       "    <tr style=\"text-align: right;\">\n",
       "      <th></th>\n",
       "      <th>image_id</th>\n",
       "      <th>feature_name</th>\n",
       "      <th>feature_value</th>\n",
       "      <th>label</th>\n",
       "    </tr>\n",
       "  </thead>\n",
       "  <tbody>\n",
       "    <tr>\n",
       "      <th>0</th>\n",
       "      <td>..\\data\\train\\no_pools\\img508.jpg</td>\n",
       "      <td>contrast</td>\n",
       "      <td>3.039592</td>\n",
       "      <td>no_pools</td>\n",
       "    </tr>\n",
       "    <tr>\n",
       "      <th>1</th>\n",
       "      <td>..\\data\\train\\no_pools\\img508.jpg</td>\n",
       "      <td>dissimilarity</td>\n",
       "      <td>1.236327</td>\n",
       "      <td>no_pools</td>\n",
       "    </tr>\n",
       "    <tr>\n",
       "      <th>2</th>\n",
       "      <td>..\\data\\train\\no_pools\\img508.jpg</td>\n",
       "      <td>homogeneity</td>\n",
       "      <td>0.538893</td>\n",
       "      <td>no_pools</td>\n",
       "    </tr>\n",
       "    <tr>\n",
       "      <th>3</th>\n",
       "      <td>..\\data\\train\\no_pools\\img508.jpg</td>\n",
       "      <td>energy</td>\n",
       "      <td>0.128500</td>\n",
       "      <td>no_pools</td>\n",
       "    </tr>\n",
       "    <tr>\n",
       "      <th>4</th>\n",
       "      <td>..\\data\\train\\no_pools\\img508.jpg</td>\n",
       "      <td>correlation</td>\n",
       "      <td>0.872108</td>\n",
       "      <td>no_pools</td>\n",
       "    </tr>\n",
       "  </tbody>\n",
       "</table>\n",
       "</div>"
      ],
      "text/plain": [
       "                            image_id   feature_name  feature_value     label\n",
       "0  ..\\data\\train\\no_pools\\img508.jpg       contrast       3.039592  no_pools\n",
       "1  ..\\data\\train\\no_pools\\img508.jpg  dissimilarity       1.236327  no_pools\n",
       "2  ..\\data\\train\\no_pools\\img508.jpg    homogeneity       0.538893  no_pools\n",
       "3  ..\\data\\train\\no_pools\\img508.jpg         energy       0.128500  no_pools\n",
       "4  ..\\data\\train\\no_pools\\img508.jpg    correlation       0.872108  no_pools"
      ]
     },
     "execution_count": 60,
     "metadata": {},
     "output_type": "execute_result"
    }
   ],
   "source": [
    "coocurrence_matrix_df.head()"
   ]
  },
  {
   "cell_type": "code",
   "execution_count": 61,
   "metadata": {},
   "outputs": [],
   "source": [
    "if PLOT_RESULTS:\n",
    "    for feature_name in coocurrence_matrix_df['feature_name'].unique():\n",
    "        current_feature_df = coocurrence_matrix_df[coocurrence_matrix_df['feature_name'] == feature_name]\n",
    "        plot_feature_df(current_feature_df, color='red', secondary_color='blue')"
   ]
  },
  {
   "attachments": {},
   "cell_type": "markdown",
   "metadata": {},
   "source": [
    "##### **SIFT, SURF, HOG, GAVOR**"
   ]
  },
  {
   "attachments": {},
   "cell_type": "markdown",
   "metadata": {},
   "source": [
    "### **Unir features**"
   ]
  },
  {
   "cell_type": "code",
   "execution_count": 62,
   "metadata": {},
   "outputs": [],
   "source": [
    "def rename_feature(feature_name: str, suffix: str):\n",
    "    return feature_name + '_' + suffix\n",
    "    \n",
    "def ingest_features(channel_features: pd.DataFrame, histogram_features: pd.DataFrame, coocurrence_matrix_features: pd.DataFrame):\n",
    "    channel_feature_columns = [rename_feature(row['feature_name'], row['channel']) for _, row in channel_features.iterrows()]\n",
    "    histogram_feature_columns = [rename_feature(row['feature_name'], 'histogram') for _, row in histogram_features.iterrows()]\n",
    "    coocurrence_matrix_feature_columns = [rename_feature(row['feature_name'], 'coocurrence_matrix') for _, row in coocurrence_matrix_features.iterrows()]\n",
    "    feature_columns = [*channel_feature_columns, *histogram_feature_columns, *coocurrence_matrix_feature_columns,]\n",
    "    image_initial_features = {**{feature_name: None for feature_name in feature_columns}, 'label': None}\n",
    "    image_features = {image_id: image_initial_features.copy() for image_id in channel_features['image_id'].unique()}\n",
    "    ingested_df = {'image_id': [], **{feature_name: [] for feature_name in feature_columns}, 'label': []}\n",
    "    visited_images = set()\n",
    "\n",
    "    # Individual datasets\n",
    "    for _, row in channel_features.iterrows():\n",
    "        image_id = row['image_id']\n",
    "        renamed_feature = rename_feature(row['feature_name'], row['channel'])\n",
    "        feature_value = row['feature_value']\n",
    "        image_features[image_id][renamed_feature] = feature_value\n",
    "        if image_id not in visited_images:\n",
    "            image_features[image_id]['label'] = row['label']\n",
    "            visited_images.add(image_id)\n",
    "\n",
    "    for _, row in histogram_features.iterrows():\n",
    "        image_id = row['image_id']\n",
    "        renamed_feature = rename_feature(row['feature_name'], 'histogram')\n",
    "        feature_value = row['feature_value']\n",
    "        image_features[image_id][renamed_feature] = feature_value\n",
    "\n",
    "    for _, row in coocurrence_matrix_features.iterrows():\n",
    "        image_id = row['image_id']\n",
    "        renamed_feature = rename_feature(row['feature_name'], 'coocurrence_matrix')\n",
    "        feature_value = row['feature_value']\n",
    "        image_features[image_id][renamed_feature] = feature_value\n",
    "\n",
    "    # Mixed dataset\n",
    "    for image_id, features in image_features.items():\n",
    "        for feature_name, feature_values in features.items():\n",
    "            ingested_df[feature_name].append(feature_values) if feature_name != 'label' else None\n",
    "        ingested_df['image_id'].append(image_id)\n",
    "        ingested_df['label'].append(features['label'])\n",
    "\n",
    "\n",
    "    return pd.DataFrame(ingested_df)"
   ]
  },
  {
   "cell_type": "code",
   "execution_count": 63,
   "metadata": {},
   "outputs": [],
   "source": [
    "if USE_CACHE and os.path.exists(os.path.join(FEATURES_DIR, 'ingested_features_df.csv')):\n",
    "    ingested_features_df = pd.read_csv(os.path.join(FEATURES_DIR, 'ingested_features_df.csv'))\n",
    "    dev_ingested_features_df = pd.read_csv(os.path.join(FEATURES_DIR, 'dev_ingested_features_df.csv'))\n",
    "else:\n",
    "    ingested_features_df = ingest_features(channel_feature_df, histogram_feature_df, coocurrence_matrix_df)\n",
    "    ingested_features_df.to_csv(os.path.join(FEATURES_DIR, 'ingested_features_df.csv'), index=False)\n",
    "    dev_ingested_features_df = ingest_features(dev_channel_feature_df, dev_histogram_feature_df, dev_coocurrence_matrix_df)\n",
    "    dev_ingested_features_df.to_csv(os.path.join(FEATURES_DIR, 'dev_ingested_features_df.csv'), index=False)"
   ]
  },
  {
   "attachments": {},
   "cell_type": "markdown",
   "metadata": {},
   "source": [
    "#### **Tests de normalidad**"
   ]
  },
  {
   "cell_type": "code",
   "execution_count": 64,
   "metadata": {},
   "outputs": [],
   "source": [
    "def shapiro_wilk_test(features: pd.Series):\n",
    "    _, pvalue = scipy.stats.shapiro(features)\n",
    "    return pvalue\n",
    "\n",
    "def anderson_darling_test(features: pd.Series):\n",
    "    statistic, critical_values, significance_levels = scipy.stats.anderson(features)\n",
    "    for critical_value, significance_level in zip(critical_values[::-1], significance_levels[::-1]):\n",
    "        if statistic > critical_value:\n",
    "            return significance_level / 100\n",
    "    return significance_levels[0] / 100\n",
    "\n",
    "def create_normality_df(features_df: pd.DataFrame, test='shapiro_wilk'):\n",
    "    test_functions = {'anderson_darling': anderson_darling_test, 'shapiro_wilk': shapiro_wilk_test}\n",
    "    normality_df = {'feature_name': [], 'pvalue': [], 'is_normal': []}\n",
    "    categorical_features = features_df.select_dtypes(include='object').columns\n",
    "    for feature_name in features_df.columns:\n",
    "        if feature_name not in categorical_features:\n",
    "            pvalue = test_functions[test](features_df[feature_name])\n",
    "            normality_df['feature_name'].append(feature_name)\n",
    "            normality_df['pvalue'].append(pvalue)\n",
    "            normality_df['is_normal'].append(pvalue > 0.05)\n",
    "    return pd.DataFrame(normality_df)"
   ]
  },
  {
   "cell_type": "code",
   "execution_count": 65,
   "metadata": {},
   "outputs": [],
   "source": [
    "if USE_CACHE and os.path.exists(os.path.join(FEATURES_DIR, 'normality_df.csv')):\n",
    "    normality_df = pd.read_csv(os.path.join(FEATURES_DIR, 'normality_df.csv'))\n",
    "else:\n",
    "    normality_df = create_normality_df(ingested_features_df)\n",
    "    normality_df.to_csv(os.path.join(FEATURES_DIR, 'normality_df.csv'), index=False)"
   ]
  },
  {
   "cell_type": "code",
   "execution_count": 66,
   "metadata": {},
   "outputs": [],
   "source": [
    "def plot_normality_df(normality_df: pd.DataFrame, scale='log'):\n",
    "    _, ax = plt.subplots(figsize=(20, 5))\n",
    "    sns.barplot(data=normality_df, x='feature_name', y='pvalue', hue='is_normal', ax=ax)\n",
    "    ax.set_xticklabels(ax.get_xticklabels(), rotation=45, horizontalalignment='right')\n",
    "    plt.plot([0, len(normality_df)-1], [0.05, 0.05], linewidth=2, color='red')\n",
    "    plt.yscale(scale)\n",
    "    plt.tight_layout()"
   ]
  },
  {
   "cell_type": "code",
   "execution_count": 67,
   "metadata": {},
   "outputs": [],
   "source": [
    "if PLOT_RESULTS:\n",
    "    plot_normality_df(normality_df)"
   ]
  },
  {
   "attachments": {},
   "cell_type": "markdown",
   "metadata": {},
   "source": [
    "### **Correlación de features**"
   ]
  },
  {
   "cell_type": "code",
   "execution_count": 68,
   "metadata": {},
   "outputs": [
    {
     "data": {
      "text/html": [
       "<div>\n",
       "<style scoped>\n",
       "    .dataframe tbody tr th:only-of-type {\n",
       "        vertical-align: middle;\n",
       "    }\n",
       "\n",
       "    .dataframe tbody tr th {\n",
       "        vertical-align: top;\n",
       "    }\n",
       "\n",
       "    .dataframe thead th {\n",
       "        text-align: right;\n",
       "    }\n",
       "</style>\n",
       "<table border=\"1\" class=\"dataframe\">\n",
       "  <thead>\n",
       "    <tr style=\"text-align: right;\">\n",
       "      <th></th>\n",
       "      <th>image_id</th>\n",
       "      <th>mean_red</th>\n",
       "      <th>mean_green</th>\n",
       "      <th>mean_blue</th>\n",
       "      <th>mean_grayscale</th>\n",
       "      <th>std_red</th>\n",
       "      <th>std_green</th>\n",
       "      <th>std_blue</th>\n",
       "      <th>std_grayscale</th>\n",
       "      <th>median_red</th>\n",
       "      <th>...</th>\n",
       "      <th>kurtosis_histogram</th>\n",
       "      <th>uniformity_histogram</th>\n",
       "      <th>entropy_histogram</th>\n",
       "      <th>R_histogram</th>\n",
       "      <th>contrast_coocurrence_matrix</th>\n",
       "      <th>dissimilarity_coocurrence_matrix</th>\n",
       "      <th>homogeneity_coocurrence_matrix</th>\n",
       "      <th>energy_coocurrence_matrix</th>\n",
       "      <th>correlation_coocurrence_matrix</th>\n",
       "      <th>label</th>\n",
       "    </tr>\n",
       "  </thead>\n",
       "  <tbody>\n",
       "    <tr>\n",
       "      <th>0</th>\n",
       "      <td>..\\data\\train\\no_pools\\img508.jpg</td>\n",
       "      <td>55.4896</td>\n",
       "      <td>82.2284</td>\n",
       "      <td>64.3704</td>\n",
       "      <td>67.0356</td>\n",
       "      <td>3.321369</td>\n",
       "      <td>3.387541</td>\n",
       "      <td>4.426963</td>\n",
       "      <td>3.501533</td>\n",
       "      <td>55.0</td>\n",
       "      <td>...</td>\n",
       "      <td>1297.597093</td>\n",
       "      <td>8.144488</td>\n",
       "      <td>0.647537</td>\n",
       "      <td>0.029442</td>\n",
       "      <td>3.039592</td>\n",
       "      <td>1.236327</td>\n",
       "      <td>0.538893</td>\n",
       "      <td>0.128500</td>\n",
       "      <td>0.872108</td>\n",
       "      <td>no_pools</td>\n",
       "    </tr>\n",
       "    <tr>\n",
       "      <th>1</th>\n",
       "      <td>..\\data\\train\\no_pools\\img824.jpg</td>\n",
       "      <td>96.4732</td>\n",
       "      <td>114.6464</td>\n",
       "      <td>117.7484</td>\n",
       "      <td>109.2992</td>\n",
       "      <td>48.202785</td>\n",
       "      <td>46.335996</td>\n",
       "      <td>52.210377</td>\n",
       "      <td>48.552587</td>\n",
       "      <td>88.0</td>\n",
       "      <td>...</td>\n",
       "      <td>0.025538</td>\n",
       "      <td>0.012681</td>\n",
       "      <td>0.979681</td>\n",
       "      <td>0.000030</td>\n",
       "      <td>44.738367</td>\n",
       "      <td>4.571837</td>\n",
       "      <td>0.272742</td>\n",
       "      <td>0.041696</td>\n",
       "      <td>0.990545</td>\n",
       "      <td>no_pools</td>\n",
       "    </tr>\n",
       "    <tr>\n",
       "      <th>2</th>\n",
       "      <td>..\\data\\train\\no_pools\\img247.jpg</td>\n",
       "      <td>50.4156</td>\n",
       "      <td>52.0484</td>\n",
       "      <td>50.6500</td>\n",
       "      <td>50.7016</td>\n",
       "      <td>15.807456</td>\n",
       "      <td>14.788822</td>\n",
       "      <td>16.294867</td>\n",
       "      <td>15.525429</td>\n",
       "      <td>45.0</td>\n",
       "      <td>...</td>\n",
       "      <td>0.226988</td>\n",
       "      <td>0.267356</td>\n",
       "      <td>1.383300</td>\n",
       "      <td>0.000920</td>\n",
       "      <td>10.159184</td>\n",
       "      <td>2.262857</td>\n",
       "      <td>0.380013</td>\n",
       "      <td>0.069578</td>\n",
       "      <td>0.979087</td>\n",
       "      <td>no_pools</td>\n",
       "    </tr>\n",
       "    <tr>\n",
       "      <th>3</th>\n",
       "      <td>..\\data\\train\\no_pools\\img165.jpg</td>\n",
       "      <td>153.1428</td>\n",
       "      <td>152.8592</td>\n",
       "      <td>144.9488</td>\n",
       "      <td>150.0104</td>\n",
       "      <td>55.846389</td>\n",
       "      <td>54.696561</td>\n",
       "      <td>57.429983</td>\n",
       "      <td>55.628280</td>\n",
       "      <td>143.0</td>\n",
       "      <td>...</td>\n",
       "      <td>0.151473</td>\n",
       "      <td>0.016784</td>\n",
       "      <td>1.059779</td>\n",
       "      <td>0.000043</td>\n",
       "      <td>203.780000</td>\n",
       "      <td>8.940816</td>\n",
       "      <td>0.200777</td>\n",
       "      <td>0.060037</td>\n",
       "      <td>0.967134</td>\n",
       "      <td>no_pools</td>\n",
       "    </tr>\n",
       "    <tr>\n",
       "      <th>4</th>\n",
       "      <td>..\\data\\train\\pools\\img736.jpg</td>\n",
       "      <td>178.7056</td>\n",
       "      <td>177.0012</td>\n",
       "      <td>167.3580</td>\n",
       "      <td>174.0376</td>\n",
       "      <td>53.080872</td>\n",
       "      <td>54.476575</td>\n",
       "      <td>57.100300</td>\n",
       "      <td>53.742402</td>\n",
       "      <td>164.0</td>\n",
       "      <td>...</td>\n",
       "      <td>0.476809</td>\n",
       "      <td>0.015912</td>\n",
       "      <td>1.167708</td>\n",
       "      <td>0.000033</td>\n",
       "      <td>129.957959</td>\n",
       "      <td>6.703265</td>\n",
       "      <td>0.227082</td>\n",
       "      <td>0.039188</td>\n",
       "      <td>0.977351</td>\n",
       "      <td>pools</td>\n",
       "    </tr>\n",
       "  </tbody>\n",
       "</table>\n",
       "<p>5 rows × 71 columns</p>\n",
       "</div>"
      ],
      "text/plain": [
       "                            image_id  mean_red  mean_green  mean_blue  \\\n",
       "0  ..\\data\\train\\no_pools\\img508.jpg   55.4896     82.2284    64.3704   \n",
       "1  ..\\data\\train\\no_pools\\img824.jpg   96.4732    114.6464   117.7484   \n",
       "2  ..\\data\\train\\no_pools\\img247.jpg   50.4156     52.0484    50.6500   \n",
       "3  ..\\data\\train\\no_pools\\img165.jpg  153.1428    152.8592   144.9488   \n",
       "4     ..\\data\\train\\pools\\img736.jpg  178.7056    177.0012   167.3580   \n",
       "\n",
       "   mean_grayscale    std_red  std_green   std_blue  std_grayscale  median_red  \\\n",
       "0         67.0356   3.321369   3.387541   4.426963       3.501533        55.0   \n",
       "1        109.2992  48.202785  46.335996  52.210377      48.552587        88.0   \n",
       "2         50.7016  15.807456  14.788822  16.294867      15.525429        45.0   \n",
       "3        150.0104  55.846389  54.696561  57.429983      55.628280       143.0   \n",
       "4        174.0376  53.080872  54.476575  57.100300      53.742402       164.0   \n",
       "\n",
       "   ...  kurtosis_histogram  uniformity_histogram  entropy_histogram  \\\n",
       "0  ...         1297.597093              8.144488           0.647537   \n",
       "1  ...            0.025538              0.012681           0.979681   \n",
       "2  ...            0.226988              0.267356           1.383300   \n",
       "3  ...            0.151473              0.016784           1.059779   \n",
       "4  ...            0.476809              0.015912           1.167708   \n",
       "\n",
       "   R_histogram  contrast_coocurrence_matrix  dissimilarity_coocurrence_matrix  \\\n",
       "0     0.029442                     3.039592                          1.236327   \n",
       "1     0.000030                    44.738367                          4.571837   \n",
       "2     0.000920                    10.159184                          2.262857   \n",
       "3     0.000043                   203.780000                          8.940816   \n",
       "4     0.000033                   129.957959                          6.703265   \n",
       "\n",
       "   homogeneity_coocurrence_matrix  energy_coocurrence_matrix  \\\n",
       "0                        0.538893                   0.128500   \n",
       "1                        0.272742                   0.041696   \n",
       "2                        0.380013                   0.069578   \n",
       "3                        0.200777                   0.060037   \n",
       "4                        0.227082                   0.039188   \n",
       "\n",
       "   correlation_coocurrence_matrix     label  \n",
       "0                        0.872108  no_pools  \n",
       "1                        0.990545  no_pools  \n",
       "2                        0.979087  no_pools  \n",
       "3                        0.967134  no_pools  \n",
       "4                        0.977351     pools  \n",
       "\n",
       "[5 rows x 71 columns]"
      ]
     },
     "execution_count": 68,
     "metadata": {},
     "output_type": "execute_result"
    }
   ],
   "source": [
    "ingested_features_df.head()"
   ]
  },
  {
   "attachments": {},
   "cell_type": "markdown",
   "metadata": {},
   "source": [
    "##### **Coeficiente de correlación**"
   ]
  },
  {
   "cell_type": "code",
   "execution_count": 69,
   "metadata": {},
   "outputs": [],
   "source": [
    "def plot_feature_correlation(feature_df: pd.DataFrame, threshold: float=None, normal=False):\n",
    "    _, ax = plt.subplots(figsize=(15, 15))\n",
    "    method = 'pearson' if normal else 'spearman'\n",
    "    corr = feature_df.corr(numeric_only=True, method=method).abs()\n",
    "    if threshold:\n",
    "        corr[corr < threshold] = 0\n",
    "        corr[corr >= threshold] = 1\n",
    "    sns.heatmap(corr, annot=False, ax=ax) "
   ]
  },
  {
   "cell_type": "code",
   "execution_count": 70,
   "metadata": {},
   "outputs": [],
   "source": [
    "if PLOT_RESULTS:\n",
    "    plot_feature_correlation(ingested_features_df)"
   ]
  },
  {
   "cell_type": "code",
   "execution_count": 71,
   "metadata": {},
   "outputs": [],
   "source": [
    "if PLOT_RESULTS:\n",
    "    plot_feature_correlation(ingested_features_df, threshold=0.6)"
   ]
  },
  {
   "attachments": {},
   "cell_type": "markdown",
   "metadata": {},
   "source": [
    "##### **Pairplot**"
   ]
  },
  {
   "cell_type": "code",
   "execution_count": 72,
   "metadata": {},
   "outputs": [],
   "source": [
    "def pairplot_features(feature_df: pd.DataFrame, label: str):\n",
    "    sns.pairplot(feature_df, hue=label)"
   ]
  },
  {
   "attachments": {},
   "cell_type": "markdown",
   "metadata": {},
   "source": [
    "## **Significancia**"
   ]
  },
  {
   "cell_type": "code",
   "execution_count": 73,
   "metadata": {},
   "outputs": [],
   "source": [
    "def create_mutual_info_df(X, y, descriptors):\n",
    "    mutual_info_statistics = mutual_info_classif(X, y, random_state=0)\n",
    "    mutual_info_df = pd.DataFrame({'importance': mutual_info_statistics}, index=descriptors)\n",
    "    mutual_info_df.sort_values(by='importance', ascending=False, inplace=True)\n",
    "    return mutual_info_df"
   ]
  },
  {
   "cell_type": "code",
   "execution_count": 74,
   "metadata": {},
   "outputs": [],
   "source": [
    "if USE_CACHE and os.path.exists(os.path.join(FEATURES_DIR, 'mutual_info_df.csv')):\n",
    "    mutual_info_df = pd.read_csv(os.path.join(FEATURES_DIR, 'mutual_info_df.csv'), index_col='feature_name')\n",
    "else:\n",
    "    numeric_features = ingested_features_df.select_dtypes(include='number').columns\n",
    "    X = ingested_features_df[numeric_features]\n",
    "    y = ingested_features_df['label']\n",
    "    mutual_info_df = create_mutual_info_df(X, y, numeric_features)\n",
    "    mutual_info_df.to_csv(os.path.join(FEATURES_DIR, 'mutual_info_df.csv'), index=True, index_label='feature_name')"
   ]
  },
  {
   "cell_type": "code",
   "execution_count": 75,
   "metadata": {},
   "outputs": [],
   "source": [
    "def plot_mutual_info_df(importances_df: pd.DataFrame):\n",
    "    _, ax = plt.subplots(figsize=(20, 5))\n",
    "    sns.barplot(data=importances_df, x=importances_df.index, y='importance', ax=ax)\n",
    "    ax.set_xticklabels(ax.get_xticklabels(), rotation=45, horizontalalignment='right')\n",
    "    plt.tight_layout()"
   ]
  },
  {
   "cell_type": "code",
   "execution_count": 76,
   "metadata": {},
   "outputs": [],
   "source": [
    "if PLOT_RESULTS:\n",
    "    plot_mutual_info_df(mutual_info_df)"
   ]
  },
  {
   "attachments": {},
   "cell_type": "markdown",
   "metadata": {},
   "source": [
    "##### **Pairplot**"
   ]
  },
  {
   "cell_type": "code",
   "execution_count": 77,
   "metadata": {},
   "outputs": [],
   "source": [
    "def pairplot_features(feature_df: pd.DataFrame, label: str):\n",
    "    sns.pairplot(feature_df, hue=label)"
   ]
  },
  {
   "cell_type": "code",
   "execution_count": 78,
   "metadata": {},
   "outputs": [
    {
     "data": {
      "text/html": [
       "<div>\n",
       "<style scoped>\n",
       "    .dataframe tbody tr th:only-of-type {\n",
       "        vertical-align: middle;\n",
       "    }\n",
       "\n",
       "    .dataframe tbody tr th {\n",
       "        vertical-align: top;\n",
       "    }\n",
       "\n",
       "    .dataframe thead th {\n",
       "        text-align: right;\n",
       "    }\n",
       "</style>\n",
       "<table border=\"1\" class=\"dataframe\">\n",
       "  <thead>\n",
       "    <tr style=\"text-align: right;\">\n",
       "      <th></th>\n",
       "      <th>image_id</th>\n",
       "      <th>mean_red</th>\n",
       "      <th>mean_green</th>\n",
       "      <th>mean_blue</th>\n",
       "      <th>mean_grayscale</th>\n",
       "      <th>std_red</th>\n",
       "      <th>std_green</th>\n",
       "      <th>std_blue</th>\n",
       "      <th>std_grayscale</th>\n",
       "      <th>median_red</th>\n",
       "      <th>...</th>\n",
       "      <th>kurtosis_histogram</th>\n",
       "      <th>uniformity_histogram</th>\n",
       "      <th>entropy_histogram</th>\n",
       "      <th>R_histogram</th>\n",
       "      <th>contrast_coocurrence_matrix</th>\n",
       "      <th>dissimilarity_coocurrence_matrix</th>\n",
       "      <th>homogeneity_coocurrence_matrix</th>\n",
       "      <th>energy_coocurrence_matrix</th>\n",
       "      <th>correlation_coocurrence_matrix</th>\n",
       "      <th>label</th>\n",
       "    </tr>\n",
       "  </thead>\n",
       "  <tbody>\n",
       "    <tr>\n",
       "      <th>0</th>\n",
       "      <td>..\\data\\train\\no_pools\\img508.jpg</td>\n",
       "      <td>55.4896</td>\n",
       "      <td>82.2284</td>\n",
       "      <td>64.3704</td>\n",
       "      <td>67.0356</td>\n",
       "      <td>3.321369</td>\n",
       "      <td>3.387541</td>\n",
       "      <td>4.426963</td>\n",
       "      <td>3.501533</td>\n",
       "      <td>55.0</td>\n",
       "      <td>...</td>\n",
       "      <td>1297.597093</td>\n",
       "      <td>8.144488</td>\n",
       "      <td>0.647537</td>\n",
       "      <td>0.029442</td>\n",
       "      <td>3.039592</td>\n",
       "      <td>1.236327</td>\n",
       "      <td>0.538893</td>\n",
       "      <td>0.128500</td>\n",
       "      <td>0.872108</td>\n",
       "      <td>no_pools</td>\n",
       "    </tr>\n",
       "    <tr>\n",
       "      <th>1</th>\n",
       "      <td>..\\data\\train\\no_pools\\img824.jpg</td>\n",
       "      <td>96.4732</td>\n",
       "      <td>114.6464</td>\n",
       "      <td>117.7484</td>\n",
       "      <td>109.2992</td>\n",
       "      <td>48.202785</td>\n",
       "      <td>46.335996</td>\n",
       "      <td>52.210377</td>\n",
       "      <td>48.552587</td>\n",
       "      <td>88.0</td>\n",
       "      <td>...</td>\n",
       "      <td>0.025538</td>\n",
       "      <td>0.012681</td>\n",
       "      <td>0.979681</td>\n",
       "      <td>0.000030</td>\n",
       "      <td>44.738367</td>\n",
       "      <td>4.571837</td>\n",
       "      <td>0.272742</td>\n",
       "      <td>0.041696</td>\n",
       "      <td>0.990545</td>\n",
       "      <td>no_pools</td>\n",
       "    </tr>\n",
       "    <tr>\n",
       "      <th>2</th>\n",
       "      <td>..\\data\\train\\no_pools\\img247.jpg</td>\n",
       "      <td>50.4156</td>\n",
       "      <td>52.0484</td>\n",
       "      <td>50.6500</td>\n",
       "      <td>50.7016</td>\n",
       "      <td>15.807456</td>\n",
       "      <td>14.788822</td>\n",
       "      <td>16.294867</td>\n",
       "      <td>15.525429</td>\n",
       "      <td>45.0</td>\n",
       "      <td>...</td>\n",
       "      <td>0.226988</td>\n",
       "      <td>0.267356</td>\n",
       "      <td>1.383300</td>\n",
       "      <td>0.000920</td>\n",
       "      <td>10.159184</td>\n",
       "      <td>2.262857</td>\n",
       "      <td>0.380013</td>\n",
       "      <td>0.069578</td>\n",
       "      <td>0.979087</td>\n",
       "      <td>no_pools</td>\n",
       "    </tr>\n",
       "    <tr>\n",
       "      <th>3</th>\n",
       "      <td>..\\data\\train\\no_pools\\img165.jpg</td>\n",
       "      <td>153.1428</td>\n",
       "      <td>152.8592</td>\n",
       "      <td>144.9488</td>\n",
       "      <td>150.0104</td>\n",
       "      <td>55.846389</td>\n",
       "      <td>54.696561</td>\n",
       "      <td>57.429983</td>\n",
       "      <td>55.628280</td>\n",
       "      <td>143.0</td>\n",
       "      <td>...</td>\n",
       "      <td>0.151473</td>\n",
       "      <td>0.016784</td>\n",
       "      <td>1.059779</td>\n",
       "      <td>0.000043</td>\n",
       "      <td>203.780000</td>\n",
       "      <td>8.940816</td>\n",
       "      <td>0.200777</td>\n",
       "      <td>0.060037</td>\n",
       "      <td>0.967134</td>\n",
       "      <td>no_pools</td>\n",
       "    </tr>\n",
       "    <tr>\n",
       "      <th>4</th>\n",
       "      <td>..\\data\\train\\pools\\img736.jpg</td>\n",
       "      <td>178.7056</td>\n",
       "      <td>177.0012</td>\n",
       "      <td>167.3580</td>\n",
       "      <td>174.0376</td>\n",
       "      <td>53.080872</td>\n",
       "      <td>54.476575</td>\n",
       "      <td>57.100300</td>\n",
       "      <td>53.742402</td>\n",
       "      <td>164.0</td>\n",
       "      <td>...</td>\n",
       "      <td>0.476809</td>\n",
       "      <td>0.015912</td>\n",
       "      <td>1.167708</td>\n",
       "      <td>0.000033</td>\n",
       "      <td>129.957959</td>\n",
       "      <td>6.703265</td>\n",
       "      <td>0.227082</td>\n",
       "      <td>0.039188</td>\n",
       "      <td>0.977351</td>\n",
       "      <td>pools</td>\n",
       "    </tr>\n",
       "  </tbody>\n",
       "</table>\n",
       "<p>5 rows × 71 columns</p>\n",
       "</div>"
      ],
      "text/plain": [
       "                            image_id  mean_red  mean_green  mean_blue  \\\n",
       "0  ..\\data\\train\\no_pools\\img508.jpg   55.4896     82.2284    64.3704   \n",
       "1  ..\\data\\train\\no_pools\\img824.jpg   96.4732    114.6464   117.7484   \n",
       "2  ..\\data\\train\\no_pools\\img247.jpg   50.4156     52.0484    50.6500   \n",
       "3  ..\\data\\train\\no_pools\\img165.jpg  153.1428    152.8592   144.9488   \n",
       "4     ..\\data\\train\\pools\\img736.jpg  178.7056    177.0012   167.3580   \n",
       "\n",
       "   mean_grayscale    std_red  std_green   std_blue  std_grayscale  median_red  \\\n",
       "0         67.0356   3.321369   3.387541   4.426963       3.501533        55.0   \n",
       "1        109.2992  48.202785  46.335996  52.210377      48.552587        88.0   \n",
       "2         50.7016  15.807456  14.788822  16.294867      15.525429        45.0   \n",
       "3        150.0104  55.846389  54.696561  57.429983      55.628280       143.0   \n",
       "4        174.0376  53.080872  54.476575  57.100300      53.742402       164.0   \n",
       "\n",
       "   ...  kurtosis_histogram  uniformity_histogram  entropy_histogram  \\\n",
       "0  ...         1297.597093              8.144488           0.647537   \n",
       "1  ...            0.025538              0.012681           0.979681   \n",
       "2  ...            0.226988              0.267356           1.383300   \n",
       "3  ...            0.151473              0.016784           1.059779   \n",
       "4  ...            0.476809              0.015912           1.167708   \n",
       "\n",
       "   R_histogram  contrast_coocurrence_matrix  dissimilarity_coocurrence_matrix  \\\n",
       "0     0.029442                     3.039592                          1.236327   \n",
       "1     0.000030                    44.738367                          4.571837   \n",
       "2     0.000920                    10.159184                          2.262857   \n",
       "3     0.000043                   203.780000                          8.940816   \n",
       "4     0.000033                   129.957959                          6.703265   \n",
       "\n",
       "   homogeneity_coocurrence_matrix  energy_coocurrence_matrix  \\\n",
       "0                        0.538893                   0.128500   \n",
       "1                        0.272742                   0.041696   \n",
       "2                        0.380013                   0.069578   \n",
       "3                        0.200777                   0.060037   \n",
       "4                        0.227082                   0.039188   \n",
       "\n",
       "   correlation_coocurrence_matrix     label  \n",
       "0                        0.872108  no_pools  \n",
       "1                        0.990545  no_pools  \n",
       "2                        0.979087  no_pools  \n",
       "3                        0.967134  no_pools  \n",
       "4                        0.977351     pools  \n",
       "\n",
       "[5 rows x 71 columns]"
      ]
     },
     "execution_count": 78,
     "metadata": {},
     "output_type": "execute_result"
    }
   ],
   "source": [
    "ingested_features_df.head()"
   ]
  },
  {
   "cell_type": "code",
   "execution_count": 79,
   "metadata": {},
   "outputs": [],
   "source": [
    "if PLOT_RESULTS:\n",
    "    top_feature_columns = list(mutual_info_df.index[0:10]) + ['label']\n",
    "    pairplot_features(ingested_features_df[top_feature_columns], label='label')"
   ]
  },
  {
   "cell_type": "code",
   "execution_count": 80,
   "metadata": {},
   "outputs": [],
   "source": [
    "if PLOT_RESULTS:\n",
    "    out_of_mutual_info_top_feature_columns = list(mutual_info_df.index[10:20]) + ['label']\n",
    "    pairplot_features(ingested_features_df[out_of_mutual_info_top_feature_columns], label='label')"
   ]
  },
  {
   "attachments": {},
   "cell_type": "markdown",
   "metadata": {},
   "source": [
    "#### **Prueba con clasificadores**"
   ]
  },
  {
   "cell_type": "code",
   "execution_count": 81,
   "metadata": {},
   "outputs": [],
   "source": [
    "def create_datasets(train_df: pd.DataFrame, dev_df: pd.DataFrame, chosen_columns: list[str], label_column: str):\n",
    "    train_X = train_df[chosen_columns].drop(columns=[label_column])\n",
    "    train_y = train_df[label_column]\n",
    "    dev_X = dev_df[chosen_columns].drop(columns=[label_column])\n",
    "    dev_y = dev_df[label_column]\n",
    "    return train_X, train_y, dev_X, dev_y\n",
    "\n",
    "def create_pipeline(model, scaler=None):\n",
    "    if scaler:\n",
    "        return Pipeline([('scaler', scaler), ('model', model)])\n",
    "    return Pipeline([('model', model)])\n",
    "\n",
    "def create_model(seed=SEED) -> BaseEstimator:\n",
    "    return SVC(random_state=seed)"
   ]
  },
  {
   "attachments": {},
   "cell_type": "markdown",
   "metadata": {},
   "source": [
    "**Nuestro modelo**"
   ]
  },
  {
   "cell_type": "code",
   "execution_count": 82,
   "metadata": {},
   "outputs": [
    {
     "name": "stdout",
     "output_type": "stream",
     "text": [
      "Cantidad de features: 69\n"
     ]
    }
   ],
   "source": [
    "print(\"Cantidad de features:\", len(mutual_info_df.index))"
   ]
  },
  {
   "cell_type": "code",
   "execution_count": 83,
   "metadata": {},
   "outputs": [],
   "source": [
    "top_feature_columns = list(mutual_info_df.index[0:]) + ['label']\n",
    "train_X, train_y, dev_X, dev_y = create_datasets(ingested_features_df, dev_ingested_features_df, top_feature_columns, 'label')"
   ]
  },
  {
   "cell_type": "code",
   "execution_count": 84,
   "metadata": {},
   "outputs": [],
   "source": [
    "model = create_model()\n",
    "scaler = StandardScaler()\n",
    "pipeline = create_pipeline(model, scaler)"
   ]
  },
  {
   "cell_type": "code",
   "execution_count": 85,
   "metadata": {},
   "outputs": [
    {
     "data": {
      "text/html": [
       "<style>#sk-container-id-1 {color: black;background-color: white;}#sk-container-id-1 pre{padding: 0;}#sk-container-id-1 div.sk-toggleable {background-color: white;}#sk-container-id-1 label.sk-toggleable__label {cursor: pointer;display: block;width: 100%;margin-bottom: 0;padding: 0.3em;box-sizing: border-box;text-align: center;}#sk-container-id-1 label.sk-toggleable__label-arrow:before {content: \"▸\";float: left;margin-right: 0.25em;color: #696969;}#sk-container-id-1 label.sk-toggleable__label-arrow:hover:before {color: black;}#sk-container-id-1 div.sk-estimator:hover label.sk-toggleable__label-arrow:before {color: black;}#sk-container-id-1 div.sk-toggleable__content {max-height: 0;max-width: 0;overflow: hidden;text-align: left;background-color: #f0f8ff;}#sk-container-id-1 div.sk-toggleable__content pre {margin: 0.2em;color: black;border-radius: 0.25em;background-color: #f0f8ff;}#sk-container-id-1 input.sk-toggleable__control:checked~div.sk-toggleable__content {max-height: 200px;max-width: 100%;overflow: auto;}#sk-container-id-1 input.sk-toggleable__control:checked~label.sk-toggleable__label-arrow:before {content: \"▾\";}#sk-container-id-1 div.sk-estimator input.sk-toggleable__control:checked~label.sk-toggleable__label {background-color: #d4ebff;}#sk-container-id-1 div.sk-label input.sk-toggleable__control:checked~label.sk-toggleable__label {background-color: #d4ebff;}#sk-container-id-1 input.sk-hidden--visually {border: 0;clip: rect(1px 1px 1px 1px);clip: rect(1px, 1px, 1px, 1px);height: 1px;margin: -1px;overflow: hidden;padding: 0;position: absolute;width: 1px;}#sk-container-id-1 div.sk-estimator {font-family: monospace;background-color: #f0f8ff;border: 1px dotted black;border-radius: 0.25em;box-sizing: border-box;margin-bottom: 0.5em;}#sk-container-id-1 div.sk-estimator:hover {background-color: #d4ebff;}#sk-container-id-1 div.sk-parallel-item::after {content: \"\";width: 100%;border-bottom: 1px solid gray;flex-grow: 1;}#sk-container-id-1 div.sk-label:hover label.sk-toggleable__label {background-color: #d4ebff;}#sk-container-id-1 div.sk-serial::before {content: \"\";position: absolute;border-left: 1px solid gray;box-sizing: border-box;top: 0;bottom: 0;left: 50%;z-index: 0;}#sk-container-id-1 div.sk-serial {display: flex;flex-direction: column;align-items: center;background-color: white;padding-right: 0.2em;padding-left: 0.2em;position: relative;}#sk-container-id-1 div.sk-item {position: relative;z-index: 1;}#sk-container-id-1 div.sk-parallel {display: flex;align-items: stretch;justify-content: center;background-color: white;position: relative;}#sk-container-id-1 div.sk-item::before, #sk-container-id-1 div.sk-parallel-item::before {content: \"\";position: absolute;border-left: 1px solid gray;box-sizing: border-box;top: 0;bottom: 0;left: 50%;z-index: -1;}#sk-container-id-1 div.sk-parallel-item {display: flex;flex-direction: column;z-index: 1;position: relative;background-color: white;}#sk-container-id-1 div.sk-parallel-item:first-child::after {align-self: flex-end;width: 50%;}#sk-container-id-1 div.sk-parallel-item:last-child::after {align-self: flex-start;width: 50%;}#sk-container-id-1 div.sk-parallel-item:only-child::after {width: 0;}#sk-container-id-1 div.sk-dashed-wrapped {border: 1px dashed gray;margin: 0 0.4em 0.5em 0.4em;box-sizing: border-box;padding-bottom: 0.4em;background-color: white;}#sk-container-id-1 div.sk-label label {font-family: monospace;font-weight: bold;display: inline-block;line-height: 1.2em;}#sk-container-id-1 div.sk-label-container {text-align: center;}#sk-container-id-1 div.sk-container {/* jupyter's `normalize.less` sets `[hidden] { display: none; }` but bootstrap.min.css set `[hidden] { display: none !important; }` so we also need the `!important` here to be able to override the default hidden behavior on the sphinx rendered scikit-learn.org. See: https://github.com/scikit-learn/scikit-learn/issues/21755 */display: inline-block !important;position: relative;}#sk-container-id-1 div.sk-text-repr-fallback {display: none;}</style><div id=\"sk-container-id-1\" class=\"sk-top-container\"><div class=\"sk-text-repr-fallback\"><pre>Pipeline(steps=[(&#x27;scaler&#x27;, StandardScaler()), (&#x27;model&#x27;, SVC(random_state=2))])</pre><b>In a Jupyter environment, please rerun this cell to show the HTML representation or trust the notebook. <br />On GitHub, the HTML representation is unable to render, please try loading this page with nbviewer.org.</b></div><div class=\"sk-container\" hidden><div class=\"sk-item sk-dashed-wrapped\"><div class=\"sk-label-container\"><div class=\"sk-label sk-toggleable\"><input class=\"sk-toggleable__control sk-hidden--visually\" id=\"sk-estimator-id-1\" type=\"checkbox\" ><label for=\"sk-estimator-id-1\" class=\"sk-toggleable__label sk-toggleable__label-arrow\">Pipeline</label><div class=\"sk-toggleable__content\"><pre>Pipeline(steps=[(&#x27;scaler&#x27;, StandardScaler()), (&#x27;model&#x27;, SVC(random_state=2))])</pre></div></div></div><div class=\"sk-serial\"><div class=\"sk-item\"><div class=\"sk-estimator sk-toggleable\"><input class=\"sk-toggleable__control sk-hidden--visually\" id=\"sk-estimator-id-2\" type=\"checkbox\" ><label for=\"sk-estimator-id-2\" class=\"sk-toggleable__label sk-toggleable__label-arrow\">StandardScaler</label><div class=\"sk-toggleable__content\"><pre>StandardScaler()</pre></div></div></div><div class=\"sk-item\"><div class=\"sk-estimator sk-toggleable\"><input class=\"sk-toggleable__control sk-hidden--visually\" id=\"sk-estimator-id-3\" type=\"checkbox\" ><label for=\"sk-estimator-id-3\" class=\"sk-toggleable__label sk-toggleable__label-arrow\">SVC</label><div class=\"sk-toggleable__content\"><pre>SVC(random_state=2)</pre></div></div></div></div></div></div></div>"
      ],
      "text/plain": [
       "Pipeline(steps=[('scaler', StandardScaler()), ('model', SVC(random_state=2))])"
      ]
     },
     "execution_count": 85,
     "metadata": {},
     "output_type": "execute_result"
    }
   ],
   "source": [
    "pipeline.fit(train_X, train_y)"
   ]
  },
  {
   "cell_type": "code",
   "execution_count": 86,
   "metadata": {},
   "outputs": [
    {
     "data": {
      "text/plain": [
       "(0.8882450331125827, 0.9120521172638436)"
      ]
     },
     "execution_count": 86,
     "metadata": {},
     "output_type": "execute_result"
    }
   ],
   "source": [
    "pipeline.score(train_X, train_y), pipeline.score(dev_X, dev_y)"
   ]
  },
  {
   "cell_type": "markdown",
   "metadata": {},
   "source": [
    "Antes de escalar: (0.8990066225165563, 0.9120521172638436)"
   ]
  },
  {
   "attachments": {},
   "cell_type": "markdown",
   "metadata": {},
   "source": [
    "**Pixeles como features**"
   ]
  },
  {
   "cell_type": "code",
   "execution_count": 89,
   "metadata": {},
   "outputs": [],
   "source": [
    "train_X = [image[1] for image in train_images]\n",
    "train_X = [image.flatten() for image in train_X]\n",
    "train_y = [image[2] for image in train_images]\n",
    "dev_X = [image[1] for image in dev_images]\n",
    "dev_X = [image.flatten() for image in dev_X]\n",
    "dev_y = [image[2] for image in dev_images]"
   ]
  },
  {
   "cell_type": "code",
   "execution_count": 90,
   "metadata": {},
   "outputs": [
    {
     "data": {
      "text/plain": [
       "(0.9769283746556474, 0.8794788273615635)"
      ]
     },
     "execution_count": 90,
     "metadata": {},
     "output_type": "execute_result"
    }
   ],
   "source": [
    "model = create_model()\n",
    "scaler = StandardScaler()\n",
    "pipeline2 = create_pipeline(model, scaler=scaler)\n",
    "pipeline2.fit(train_X, train_y)\n",
    "pipeline2.score(train_X, train_y), pipeline2.score(dev_X, dev_y)"
   ]
  }
 ],
 "metadata": {
  "kernelspec": {
   "display_name": "venv",
   "language": "python",
   "name": "python3"
  },
  "language_info": {
   "codemirror_mode": {
    "name": "ipython",
    "version": 3
   },
   "file_extension": ".py",
   "mimetype": "text/x-python",
   "name": "python",
   "nbconvert_exporter": "python",
   "pygments_lexer": "ipython3",
   "version": "3.9.6"
  },
  "orig_nbformat": 4
 },
 "nbformat": 4,
 "nbformat_minor": 2
}
