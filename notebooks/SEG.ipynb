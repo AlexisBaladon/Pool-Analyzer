{
 "cells": [
  {
   "cell_type": "code",
   "execution_count": null,
   "metadata": {},
   "outputs": [],
   "source": [
    "import numpy as np\n",
    "import pandas as pd\n",
    "import matplotlib.pyplot as plt\n",
    "from skimage import morphology, measure\n",
    "from skimage import filters, color\n",
    "import os\n",
    "import cv2\n",
    "import random\n",
    "import tqdm.auto as tqdm\n",
    "from functools import partial\n",
    "import csv\n",
    "from PIL import Image, ImageDraw"
   ]
  },
  {
   "cell_type": "code",
   "execution_count": null,
   "metadata": {},
   "outputs": [],
   "source": [
    "DATA_DIR = os.path.join('..', 'data')\n",
    "TRAIN_DIR = os.path.join(DATA_DIR, 'train')\n",
    "VALIDATION_DIR = os.path.join(DATA_DIR, 'validation')\n",
    "FEATURES_DIR = os.path.join(DATA_DIR, 'features')\n",
    "POSITIVE_LABEL = 'pools'\n",
    "NEGATIVE_LABEL = 'no_pools'\n",
    "TAGGED_IMAGES_PATH = os.path.join('..', 'results', 'pool_annotation_train_img-0-30.csv')\n",
    "\n",
    "USE_CACHE = False\n",
    "PLOT_RESULTS = False\n",
    "SEED = 2\n",
    "random.seed(SEED)"
   ]
  },
  {
   "cell_type": "markdown",
   "metadata": {},
   "source": [
    "## METODOS\n",
    "\n",
    "Contiene funciones y clases necesarias para la ejecucion del notebook."
   ]
  },
  {
   "cell_type": "markdown",
   "metadata": {},
   "source": [
    "### ANALISIS"
   ]
  },
  {
   "cell_type": "code",
   "execution_count": null,
   "metadata": {},
   "outputs": [],
   "source": [
    "from matplotlib import colors\n",
    "\n",
    "def scatter_plot_rgb(imag, axs=None):\n",
    "    r, g, b = cv2.split(imag)\n",
    "    pixel_colors = imag.reshape((np.shape(imag)[0]*np.shape(imag)[1], 3))\n",
    "    norm = colors.Normalize(vmin=-1.,vmax=1.)\n",
    "    norm.autoscale(pixel_colors)\n",
    "    pixel_colors = norm(pixel_colors).tolist()\n",
    "\n",
    "    if axs is None:\n",
    "        fig = plt.figure()\n",
    "        axs = fig.add_subplot(1,1,1, projection=\"3d\")\n",
    "\n",
    "    axs.scatter(r.flatten(), g.flatten(), b.flatten(), facecolors=pixel_colors, marker=\".\")\n",
    "    axs.set_xlabel(\"Red\")\n",
    "    axs.set_ylabel(\"Green\")\n",
    "    axs.set_zlabel(\"Blue\")\n",
    "    axs.set_title(\"RGB Scatter Plot\")\n",
    "\n",
    "def scatter_plot_hsv(imag, axs=None):\n",
    "    hsv_imag = cv2.cvtColor(imag, cv2.COLOR_RGB2HSV)\n",
    "    h, s, v = cv2.split(hsv_imag)\n",
    "    pixel_colors = imag.reshape((np.shape(imag)[0]*np.shape(imag)[1], 3))\n",
    "    norm = colors.Normalize(vmin=-1.,vmax=1.)\n",
    "    norm.autoscale(pixel_colors)\n",
    "    pixel_colors = norm(pixel_colors).tolist()\n",
    "    if axs is None:\n",
    "        fig = plt.figure()\n",
    "        axs = fig.add_subplot(1,1,1, projection=\"3d\")\n",
    "    axs.scatter(h.flatten(), s.flatten(), v.flatten(), facecolors=pixel_colors, marker=\".\")\n",
    "    axs.set_xlabel(\"Hue\")\n",
    "    axs.set_ylabel(\"Saturation\")\n",
    "    axs.set_zlabel(\"Value\")\n",
    "    axs.set_title(\"HSV Scatter Plot\")\n",
    "    return hsv_imag"
   ]
  },
  {
   "cell_type": "markdown",
   "metadata": {},
   "source": [
    "### UTILIDADES"
   ]
  },
  {
   "cell_type": "code",
   "execution_count": null,
   "metadata": {},
   "outputs": [],
   "source": [
    "def interpolate_image_size(image, prop_size, interpolation):\n",
    "    ''' \n",
    "    Increase/decrease the size of the image by a given proportion, using the given interpolation method\n",
    "    '''\n",
    "    height, width = (image.shape[:2])\n",
    "    return cv2.resize(image, (int(width), int(height)), interpolation=interpolation)\n",
    "\n",
    "\n",
    "def draw_mask_contour(image, mask):  \n",
    "    contours, _ = cv2.findContours(mask, cv2.RETR_EXTERNAL, cv2.CHAIN_APPROX_SIMPLE)\n",
    "    out = image.copy()\n",
    "    cv2.drawContours(out, contours, -1, (0,255,0), 1)\n",
    "    return out\n",
    "\n",
    "class pipeline:\n",
    "    def __init__(self) -> None:\n",
    "        self.operations = []\n",
    "    \n",
    "    def __repr__(self):\n",
    "        operation_names = [op.__name__ for op in self.operations][::-1]\n",
    "        par = [')' for _ in range(len(self.operations) - 1)]\n",
    "        return f\"ImageProcessingPipeline: {'('.join(operation_names)}(image{''.join(par)})\"\n",
    "\n",
    "    def add_operation(self, operation):\n",
    "        self.operations.append(operation)\n",
    "    \n",
    "    def remove_operation(self, operation):\n",
    "        self.operations.remove(operation)\n",
    "    \n",
    "    def apply(self, image, verbose=False):\n",
    "        img = image.copy()\n",
    "        if verbose:\n",
    "            #print(str(self))\n",
    "            plt.figure()\n",
    "            plt.title(\"Original\")\n",
    "            plt.imshow(img)\n",
    "            plt.show()\n",
    "        for operation in tqdm.tqdm(self.operations, desc=\"Processing\", unit=\"operation\",disable=True):\n",
    "            img = operation(img)\n",
    "            if(verbose):\n",
    "                plt.figure()\n",
    "                #plt.title(operation.__name__)\n",
    "                plt.imshow(img)\n",
    "                plt.show()\n",
    "        return img"
   ]
  },
  {
   "cell_type": "markdown",
   "metadata": {},
   "source": [
    "### MEDIDAS"
   ]
  },
  {
   "cell_type": "code",
   "execution_count": null,
   "metadata": {},
   "outputs": [],
   "source": [
    "def image_matching(image, mask): # TODO: ARREGLAR USANDO LO MISMO QUE EN JACCARD\n",
    "    \"\"\"\n",
    "    This function computes the matching of the image by the mask\n",
    "    \"\"\"\n",
    "    intersection = np.sum(np.where(image * mask > 0, 1, 0))\n",
    "    return intersection / np.sum(np.where(mask > 0, 1, 0))\n",
    "\n",
    "def jaccard_index(imagen_referencia, imagen_segmentacion):\n",
    "    # Convertir las imágenes a arreglos NumPy binarios\n",
    "    referencia_binaria = np.asarray(imagen_referencia).astype(bool)\n",
    "    segmentacion_binaria = np.asarray(imagen_segmentacion).astype(bool)\n",
    "\n",
    "    # Calcular el tamaño de la intersección y la unión\n",
    "    interseccion = np.logical_and(referencia_binaria, segmentacion_binaria)\n",
    "    union = np.logical_or(referencia_binaria, segmentacion_binaria)\n",
    "\n",
    "    # Calcular el índice de Jaccard\n",
    "    jaccard = np.sum(interseccion) / np.sum(union)\n",
    "\n",
    "    return jaccard\n",
    "\n",
    "def test_mask_results(results_path, pipe: pipeline):\n",
    "    results = []\n",
    "    with open(results_path, 'r') as results_csv:\n",
    "        reader_csv = csv.DictReader(results_csv)\n",
    "        for row in reader_csv:\n",
    "            print (row[\"filename\"])\n",
    "            imag = cv2.imread(os.path.join(TRAIN_DIR, 'pools', row[\"filename\"]))            \n",
    "            binary = pipe.apply(imag, False)\n",
    "            #binary = interpolate_image_size(binary, prop_size=0.25, interpolation=cv2.INTER_CUBIC)\n",
    "\n",
    "            region_attr = eval(row[\"region_shape_attributes\"])\n",
    "            shape_teo = list(zip(region_attr['all_points_x'], region_attr['all_points_y']))\n",
    "            mask_teo = Image.new(\"RGB\", binary.shape, \"black\")\n",
    "            dibujo_teo = ImageDraw.Draw(mask_teo)\n",
    "            dibujo_teo.polygon(shape_teo, outline=\"white\", fill=\"white\")\n",
    "            mask_teo = cv2.cvtColor(np.array(mask_teo), cv2.COLOR_RGB2GRAY)\n",
    "\n",
    "            results.append(jaccard_index(mask_teo, binary))\n",
    "    return results"
   ]
  },
  {
   "cell_type": "markdown",
   "metadata": {},
   "source": [
    "### SEGMENTADORES"
   ]
  },
  {
   "cell_type": "code",
   "execution_count": null,
   "metadata": {},
   "outputs": [],
   "source": [
    "def otsu_threshold(image):\n",
    "    gray = color.rgb2gray(np.array(image))\n",
    "    threshold = filters.threshold_otsu(gray)\n",
    "    return gray > threshold\n",
    "\n",
    "def simple_threshold(gray, threshold=0):\n",
    "    return gray > threshold\n",
    "\n",
    "def kmeans_segmentation(image, k = 3):\n",
    "    pixel_vals = image.reshape((-1,3))\n",
    "\n",
    "    # Convert to float type\n",
    "    pixel_vals = np.float32(pixel_vals)\n",
    "\n",
    "    criteria = (cv2.TERM_CRITERIA_EPS + cv2.TERM_CRITERIA_MAX_ITER, 100, 0.85)\n",
    "    \n",
    "    # Perform the k-means clustering\n",
    "    retval, labels, centers = cv2.kmeans(pixel_vals, k, None, criteria, 10, cv2.KMEANS_PP_CENTERS)\n",
    "    \n",
    "    # convert data into 8-bit values\n",
    "    centers = np.uint8(centers)\n",
    "    segmented_data = centers[labels.flatten()]\n",
    "    \n",
    "    # reshape data into the original image dimensions\n",
    "    segmented_image = segmented_data.reshape((image.shape))\n",
    "    \n",
    "    return segmented_image\n",
    "\n",
    "def kmeans_segmentation2(image_bgr, k = 3):\n",
    "        # Reshaping the image into a 2D array of pixels and 3 color values (RGB)\n",
    "    image = cv2.cvtColor(image_bgr, cv2.COLOR_BGR2RGB)\n",
    "    pixel_vals = image.reshape((-1,3))\n",
    "\n",
    "    # Convert to float type\n",
    "    pixel_vals = np.float32(pixel_vals)\n",
    "\n",
    "    criteria = (cv2.TERM_CRITERIA_EPS + cv2.TERM_CRITERIA_MAX_ITER, 100, 0.85)\n",
    "    \n",
    "    # Perform the k-means clustering\n",
    "    retval, labels, centers = cv2.kmeans(pixel_vals, k, None, criteria, 10, cv2.KMEANS_RANDOM_CENTERS)\n",
    "    \n",
    "    # convert data into 8-bit values\n",
    "    centers = np.uint8(centers)\n",
    "    res = [image_bgr]\n",
    "    for i in range(k):\n",
    "        temp = np.zeros(centers.shape, np.uint8)\n",
    "        temp[i] = centers[i]\n",
    "        res.append((temp[labels.flatten()]).reshape((image.shape)))\n",
    "    return res, centers\n",
    "\n",
    "def keep_most_blue_component(kmeans_results, Print=False):\n",
    "    res, _ = kmeans_results\n",
    "    blue_mask = simple_threshold(to_grayscale(keep_blue(res[0], False)))\n",
    "    max_jaccard = 0\n",
    "    blue_mask_res = None\n",
    "    for i in range(1, len(res)):\n",
    "        temp = simple_threshold(to_grayscale(res[i]))\n",
    "        jaccard = jaccard_index(blue_mask,temp)\n",
    "        if jaccard > max_jaccard:\n",
    "            max_jaccard = jaccard\n",
    "            blue_mask_res = res[i]\n",
    "    if(Print):\n",
    "        plt.imshow(blue_mask_res)\n",
    "        plt.title(\"Blue mask result\")\n",
    "        plt.show()\n",
    "    if blue_mask_res is None:\n",
    "        print('no mask')\n",
    "        return res[i]\n",
    "    return blue_mask_res\n",
    "        \n",
    "\n",
    "def morfology_cleaning(image):\n",
    "    cleaned = morphology.remove_small_objects(image, min_size=200)\n",
    "    return cleaned\n",
    "\n",
    "def morfology_absorption(image, size=5):\n",
    "    absorption = morphology.binary_dilation(image, morphology.disk(size))\n",
    "    absorption = morphology.binary_erosion(absorption, morphology.disk(size))\n",
    "    return absorption\n",
    "\n",
    "def morfology_closing(binary):\n",
    "    binaryInt8 = binary.astype(np.uint8)\n",
    "    kernel = np.ones((5,5), np.uint8)\n",
    "    binaryInt8 = cv2.morphologyEx(binaryInt8, cv2.MORPH_CLOSE, kernel)\n",
    "    return binaryInt8\n",
    "\n",
    "def keep_blue(image, Print=False):\n",
    "    hsv = cv2.cvtColor(image, cv2.COLOR_BGR2HSV)\n",
    "\n",
    "    lower_blue = np.array([90,50,50])\n",
    "    upper_blue = np.array([250,255,255])\n",
    "\n",
    "    # blue color mask\n",
    "    mask = cv2.inRange(hsv, lower_blue, upper_blue)\n",
    "    res = cv2.bitwise_and(image,image, mask= mask)\n",
    "\n",
    "    if(Print):\n",
    "        fig = plt.figure(figsize=(15, 5))\n",
    "        ax1 = fig.add_subplot(1, 3, 1)\n",
    "        image_rgb = cv2.cvtColor(image, cv2.COLOR_BGR2RGB)\n",
    "        ax1.imshow(image_rgb)\n",
    "        ax2 = fig.add_subplot(1, 3, 2)\n",
    "        ax2.imshow(mask, cmap='gray')\n",
    "        ax3 = fig.add_subplot(1, 3, 3)\n",
    "        res_rgb = cv2.cvtColor(res, cv2.COLOR_BGR2RGB)\n",
    "        ax3.imshow(res_rgb)\n",
    "    return res\n",
    "\n",
    "def to_grayscale(image):\n",
    "    return cv2.cvtColor(image, cv2.COLOR_BGR2GRAY)\n",
    "\n",
    "def to_hsv(image):\n",
    "    return cv2.cvtColor(image, cv2.COLOR_BGR2HSV)"
   ]
  },
  {
   "cell_type": "markdown",
   "metadata": {},
   "source": [
    "### Medición"
   ]
  },
  {
   "cell_type": "code",
   "execution_count": 35,
   "metadata": {},
   "outputs": [],
   "source": [
    "\n",
    "def display_image_mask(image, mask, title=None):\n",
    "    if title:\n",
    "        print()\n",
    "        print(title)\n",
    "    fig, axs = plt.subplots(nrows=1, ncols=2, figsize=(10, 5))\n",
    "    axs[0].matshow(image)\n",
    "    axs[1].matshow(mask, cmap='gray')\n",
    "    axs[0].set_title(\"Original\")\n",
    "    axs[1].set_title(\"Processed\")\n",
    "    plt.axis('off')\n",
    "    plt.show()\n",
    "\n",
    "def obtain_measured_mask(img_name, results_path, mask_shape):\n",
    "    '''\n",
    "    This function obtains the mask of the image with the given name from the results path\n",
    "    '''\n",
    "    with open(results_path, 'r') as results_csv:\n",
    "        reader_csv = csv.DictReader(results_csv)\n",
    "        for row in reader_csv:\n",
    "            if row['filename'] == img_name:\n",
    "                region_attr = eval(row[\"region_shape_attributes\"])\n",
    "                mask_verts = list(zip(region_attr['all_points_x'], region_attr['all_points_y']))\n",
    "\n",
    "                mask = Image.new(\"RGB\", mask_shape, \"black\")\n",
    "                mask_draw = ImageDraw.Draw(mask)\n",
    "                mask_draw.polygon(mask_verts, outline=\"white\", fill=\"white\")\n",
    "                mask = cv2.cvtColor(np.array(mask), cv2.COLOR_RGB2GRAY)\n",
    "                \n",
    "                return mask"
   ]
  },
  {
   "cell_type": "markdown",
   "metadata": {},
   "source": [
    "## Espacio de color"
   ]
  },
  {
   "cell_type": "markdown",
   "metadata": {},
   "source": [
    "A continuacion se observa el espacio de color RGB y HSV para una muestra de imagene con piscina. Es interesante observar como en el espacio de color HSV, la ..."
   ]
  },
  {
   "cell_type": "code",
   "execution_count": null,
   "metadata": {},
   "outputs": [],
   "source": [
    "\n",
    "images = ['img29.jpg','img0.jpg', 'img1.jpg', 'img11.jpg','img16.jpg', 'img1454.jpg', 'img680.jpg']\n",
    "\n",
    "light_blue = (250,255,255)\n",
    "dark_blue = (90,50,50)\n",
    "\n",
    "lo_square = np.full((10, 10, 3), light_blue, dtype=np.uint8)\n",
    "do_square = np.full((10, 10, 3), dark_blue, dtype=np.uint8)\n",
    "\n",
    "lo_square_rgb = cv2.cvtColor(lo_square, cv2.COLOR_BGR2RGB)\n",
    "do_square_rgb = cv2.cvtColor(do_square, cv2.COLOR_BGR2RGB)\n",
    "\n",
    "for image_name in images:\n",
    "    imag = cv2.imread(os.path.join(TRAIN_DIR, 'pools', image_name))\n",
    "    \n",
    "    image_rgb = cv2.cvtColor(imag, cv2.COLOR_BGR2RGB)\n",
    "    fig = plt.figure(figsize=(15, 5))\n",
    "    ax1 = fig.add_subplot(1, 3, 1)\n",
    "    ax1.imshow(image_rgb)\n",
    "    ax1.set_title(\"Original\")\n",
    "    ax2 = fig.add_subplot(1, 3, 2, projection='3d')\n",
    "    scatter_plot_rgb(image_rgb.copy(), ax2)\n",
    "    ax3 = fig.add_subplot(1, 3, 3, projection='3d')\n",
    "    scatter_plot_hsv(image_rgb.copy(), ax3)\n",
    "    #keep_blue(imag, True)\n",
    "    plt.show()"
   ]
  },
  {
   "cell_type": "markdown",
   "metadata": {},
   "source": [
    "## Segmentadores\n"
   ]
  },
  {
   "cell_type": "markdown",
   "metadata": {},
   "source": [
    "En esta seccion se mostraran algunas estrategias que fueron utilizadas para intentar segmentar las piscinas, se compararan los resultados obtenidos ya sea entre ellos, como contra algunas mascaras previamente generadas manualmente utilizando la herramienta VGG."
   ]
  },
  {
   "cell_type": "markdown",
   "metadata": {},
   "source": [
    "### KEEP_BLUE"
   ]
  },
  {
   "cell_type": "markdown",
   "metadata": {},
   "source": [
    "TODO: Descripcion RESULTADOS"
   ]
  },
  {
   "cell_type": "code",
   "execution_count": null,
   "metadata": {},
   "outputs": [],
   "source": [
    "image_bgr = cv2.imread(os.path.join(TRAIN_DIR, 'pools', 'img25.jpg'))\n",
    "image_rgb = cv2.cvtColor(image_bgr, cv2.COLOR_BGR2RGB)\n",
    "gray = cv2.cvtColor(image_bgr, cv2.COLOR_BGR2GRAY)\n",
    "mask = obtain_measured_mask('img25.jpg', TAGGED_IMAGES_PATH, gray.shape)\n",
    "\n",
    "pipe = pipeline()\n",
    "pipe.add_operation(keep_blue)\n",
    "pipe.add_operation(to_grayscale)\n",
    "pipe.add_operation(simple_threshold)\n",
    "pipe.add_operation(morfology_closing)\n",
    "binary = pipe.apply(image_bgr, False)\n",
    "display_image_mask(image_rgb, binary, title=pipe)\n",
    "print('Indice de Jaccard: ', jaccard_index(mask, binary))\n",
    "print('Cobertura de imagen:', image_matching(binary, mask))\n",
    "\n",
    "\n",
    "pipe2 = pipeline()\n",
    "pipe2.add_operation(keep_blue)\n",
    "pipe2.add_operation(otsu_threshold)\n",
    "pipe2.add_operation(morfology_closing)\n",
    "binary2 = pipe2.apply(image_bgr, False)\n",
    "display_image_mask(image_rgb, binary2, title=pipe)\n",
    "print('Indice de Jaccard: ', jaccard_index(mask, binary2))\n",
    "print('Cobertura de imagen:', image_matching(binary2, mask))\n",
    "\n",
    "\n",
    "image_mask = draw_mask_contour(image_rgb, mask)\n",
    "image_segmentation1 = draw_mask_contour(image_rgb, binary)\n",
    "image_segmentation2 = draw_mask_contour(image_rgb, binary2)\n",
    "fig, axs = plt.subplots(nrows=1, ncols=3, figsize=(15, 5))\n",
    "\n",
    "axs[0].imshow(image_mask)\n",
    "axs[0].set_title(\"Mask\")\n",
    "axs[1].imshow(image_segmentation1)\n",
    "axs[1].set_title(\"Segmentation 1\")\n",
    "axs[2].imshow(image_segmentation2)\n",
    "axs[2].set_title(\"Segmentation 2\")\n",
    "plt.show()\n"
   ]
  },
  {
   "cell_type": "markdown",
   "metadata": {},
   "source": [
    "TODO: agrear alguna imagen mas"
   ]
  },
  {
   "cell_type": "markdown",
   "metadata": {},
   "source": [
    "### OTSU THRESHOLDING"
   ]
  },
  {
   "cell_type": "markdown",
   "metadata": {},
   "source": [
    "TODO: Descripcion RESULTADOS / AGRER  COMENTAR QUE PARA ALGUNOS SI DA BIEN"
   ]
  },
  {
   "cell_type": "code",
   "execution_count": null,
   "metadata": {},
   "outputs": [],
   "source": [
    "pipe3 = pipeline()\n",
    "pipe3.add_operation(otsu_threshold)\n",
    "pipe3.add_operation(morfology_cleaning)\n",
    "binary = pipe3.apply(imag, True)\n",
    "display_image_mask(imag, binary)"
   ]
  },
  {
   "cell_type": "markdown",
   "metadata": {},
   "source": [
    "Al aplicar segmentación omitiendo el paso de k-means para separación de componentes, el resultado es un poco peor que en el caso anterior, ya que se pierden algunos detalles durante la separación de la piscina. Esto se refleja en una cobertura que es menos exacta en lo que refiere a ajustarse al área de la piscina, ya que no tiene en cuenta la forma de la misma obtenida por k-means en el caso anterior, disminuyendo el indice de Jaccard dado. Sin embargo, en este caso esto también termina causando que se incluyan más detalles que en el caso en que se usa k-means, lo que se puede observar en el índice de cobertura obtenido."
   ]
  },
  {
   "cell_type": "markdown",
   "metadata": {},
   "source": [
    "### KMEANS (HSV)"
   ]
  },
  {
   "cell_type": "code",
   "execution_count": null,
   "metadata": {},
   "outputs": [],
   "source": []
  },
  {
   "cell_type": "markdown",
   "metadata": {},
   "source": [
    "### KMEANS (RGB)"
   ]
  },
  {
   "cell_type": "markdown",
   "metadata": {},
   "source": [
    "#### K-means simple"
   ]
  },
  {
   "cell_type": "markdown",
   "metadata": {},
   "source": []
  },
  {
   "cell_type": "code",
   "execution_count": null,
   "metadata": {},
   "outputs": [],
   "source": [
    "imag = cv2.imread(os.path.join(TRAIN_DIR, 'pools', 'img0.jpg'))\n",
    "image_rgb = cv2.cvtColor(imag, cv2.COLOR_BGR2RGB)\n",
    "gray = cv2.cvtColor(imag, cv2.COLOR_BGR2GRAY)\n",
    "\n",
    "pipe1 = pipeline()\n",
    "pipe1.add_operation(kmeans_segmentation)\n",
    "segmented = pipe1.apply(imag, False)\n",
    "display_image_mask(imag, segmented, title=pipe1)\n",
    "\n",
    "results_path = os.path.join('..', 'results', 'pool_annotation_train_img-0-30.csv')\n",
    "mask = obtain_measured_mask('img0.jpg', results_path, gray.shape)"
   ]
  },
  {
   "cell_type": "markdown",
   "metadata": {},
   "source": [
    "#### K-means con otsu thresholding"
   ]
  },
  {
   "cell_type": "markdown",
   "metadata": {},
   "source": [
    "En los resultados anteriores se muestra la aplicación de segmentación mediante el algoritmo K-means, con un posterior uso del método de Otsu para thresholding para seleccionar la componente deseada entre las devueltas por K-means. Se puede observar que el resultado es bastante bueno, ya que se llega a separar la piscina de forma aproximada. Se observa también que este resultado de segmentación incluye bastantes detalles no deseados, que pueden verse evaluando el índice de Jaccard obtenido."
   ]
  },
  {
   "cell_type": "code",
   "execution_count": null,
   "metadata": {},
   "outputs": [],
   "source": [
    "imag = cv2.imread(os.path.join(TRAIN_DIR, 'pools', 'img0.jpg'))\n",
    "image_rgb = cv2.cvtColor(imag, cv2.COLOR_BGR2RGB)\n",
    "gray = cv2.cvtColor(imag, cv2.COLOR_BGR2GRAY)\n",
    "\n",
    "\n",
    "pipe1 = pipeline()\n",
    "pipe1.add_operation(kmeans_segmentation)\n",
    "pipe1.add_operation(otsu_threshold)\n",
    "binary = pipe1.apply(imag, False)\n",
    "display_image_mask(imag, binary, title=pipe1)\n",
    "\n",
    "results_path = os.path.join('..', 'results', 'pool_annotation_train_img-0-30.csv')\n",
    "mask = obtain_measured_mask('img0.jpg', results_path, gray.shape)\n",
    "\n",
    "print('Indice de Jaccard: ', jaccard_index(mask, binary))\n",
    "print('Cobertura de imagen:', image_matching(binary, mask))"
   ]
  },
  {
   "cell_type": "markdown",
   "metadata": {},
   "source": [
    "#### K-means con otsu thresholding y eliminación de ruido"
   ]
  },
  {
   "cell_type": "markdown",
   "metadata": {},
   "source": [
    "Al agregar un paso de eliminación de ruido, se puede observar que el resultado mejora considerablemente, ya que se eliminan los detalles no deseados. Esto se puede observar en el aumento del índice de Jaccard, así como en la propia máscara obtenida. Esto se debe a que la mayoría de los detalles no deseados son de un tamaño menor al del kernel utilizado para la eliminación de ruido mediante erosión/dilatación. Se refleja este resultado en el aumento del índice de Jaccard obtenido, que significa que se llegó a una aproximación más exacta de la imagen. A su vez, la disminución leve del indice de cobertura significa que la mayoría de los detalles eliminados no son parte de la piscina."
   ]
  },
  {
   "cell_type": "code",
   "execution_count": null,
   "metadata": {},
   "outputs": [],
   "source": [
    "pipe2 = pipeline()\n",
    "pipe2.add_operation(kmeans_segmentation)\n",
    "pipe2.add_operation(otsu_threshold)\n",
    "pipe2.add_operation(morfology_cleaning)\n",
    "binary = pipe2.apply(imag, False)\n",
    "\n",
    "display_image_mask(imag, binary, title=pipe2)\n",
    "\n",
    "print('Indice de Jaccard: ', jaccard_index(mask, binary))\n",
    "print('Cobertura de imagen:', image_matching(binary, mask))"
   ]
  },
  {
   "cell_type": "markdown",
   "metadata": {},
   "source": [
    "#### Seleccion por componente \"más azul\""
   ]
  },
  {
   "cell_type": "markdown",
   "metadata": {},
   "source": [
    "Una de las estrategias tomadas para decidir la componente correcta fue elegir la que tuviera mayor intersección con las zonas azules de la imagen, que dada la naturaleza del problema son las que tienen mayor probabilidad de incluir una piscina. Esto se hizo operando en el espacio de color HSV, en que se definió un rango de posibles \"tonos azules\" en la imagen que incluyan las piscinas buscadas en colores azules de diferente brillo y saturación (ver función $\\texttt{keep\\_blue}$). Luego, se calculó la intersección de cada componente con este rango, y se eligió la componente con mayor intersección. Esto se puede observar en la celda siguiente, en que se muestra el promedio del indice de Jaccard calculado para los resultados obtenidos usando este método, variando el valor de k en k-means. "
   ]
  },
  {
   "cell_type": "markdown",
   "metadata": {},
   "source": [
    "En principio parece que se obtienen valores peores de cobertura para todos los valores de k, pero se observa también que esto se debe a que el método implementado en este caso es considerablemente más restrictivo que el anterior, ya que por ejemplo presenta más casos en que se descartan todas las componentes. Como se observará a continuación también, este método presenta un máximo local alrededor de k=4, pero este valor no lleva necesariamente a mejores resultados. "
   ]
  },
  {
   "cell_type": "code",
   "execution_count": null,
   "metadata": {},
   "outputs": [],
   "source": [
    "def test_k_iterative_mask_result(results_path, k_min, k_max, get_pipeline):\n",
    "    resultados = []\n",
    "    pd.set_option('display.precision', 4)\n",
    "    df = pd.DataFrame(columns=['k', 'mean', 'std', 'max', 'min'])\n",
    "    for k in range(k_min, k_max):\n",
    "        pipe = get_pipeline(k)\n",
    "        resultados_k = test_mask_results(results_path, pipe)\n",
    "        df.loc[len(df)] = {'k': k, 'mean': np.mean(resultados_k), 'std': np.array(resultados_k).std(), 'max': np.max(resultados_k), 'min': np.min(resultados_k)}\n",
    "        resultados.append(resultados_k)\n",
    "    print(df.to_string(index= False))\n",
    "    return np.array(resultados)\n",
    "\n",
    "def pipeline_given_k(k):\n",
    "    pipe = pipeline()\n",
    "    pipe.add_operation(partial(kmeans_segmentation2, k=k))\n",
    "    pipe.add_operation(keep_most_blue_component)\n",
    "    pipe.add_operation(to_grayscale)\n",
    "    pipe.add_operation(simple_threshold) #TODO: VER QUE HACER ESTE PIPELINE\n",
    "    return pipe\n",
    "\n",
    "# results_path = os.path.join('..', 'results', 'pool_annotation_train_img-0-30.csv')\n",
    "# test = test_k_iterative_mask_result(results_path, 2, 15, pipeline_given_k)"
   ]
  },
  {
   "cell_type": "markdown",
   "metadata": {},
   "source": [
    "#### Experimento sobre todas las imagnes"
   ]
  },
  {
   "cell_type": "markdown",
   "metadata": {},
   "source": [
    "Como se observa en la celda anterior, el promedio del indice de Jaccard obtenido no mejora significativamente al aumentar la cantidad de centros usados en k-means, aunque presenta un máximo local alrededor de k=9. Esto tiene sentido teórico ya que en comparación a los casos de k bajos, es más probable al dividir la imagen en más componentes que una de ellas sea la correspondiente a la piscina, pero también es más probable que la componente elegida no sea la correcta. Puede verse en la celda siguiente que no se da necesariamente una mejora al aumentar k si no se toman medidas adicionales para seleccionar la componente correcta."
   ]
  },
  {
   "cell_type": "code",
   "execution_count": null,
   "metadata": {},
   "outputs": [],
   "source": [
    "def pipeline_given_k_kmeans_otsu(k):\n",
    "    pipe = pipeline()\n",
    "    pipe.add_operation(partial(kmeans_segmentation, k=k))\n",
    "    pipe.add_operation(otsu_threshold)\n",
    "    pipe.add_operation(morfology_cleaning)\n",
    "    return pipe\n",
    "\n",
    "results_path = os.path.join('..', 'results', 'pool_annotation_train_img-0-30.csv')\n",
    "test = test_k_iterative_mask_result(results_path, 2, 15, pipeline_given_k_kmeans_otsu)"
   ]
  },
  {
   "cell_type": "markdown",
   "metadata": {},
   "source": [
    "#### Ejemplos de casos que fallan"
   ]
  },
  {
   "cell_type": "code",
   "execution_count": null,
   "metadata": {},
   "outputs": [],
   "source": [
    "imag = cv2.imread(os.path.join(TRAIN_DIR, 'pools', 'img11.jpg'))\n",
    "image_rgb = cv2.cvtColor(imag, cv2.COLOR_BGR2RGB)\n",
    "gray = cv2.cvtColor(imag, cv2.COLOR_BGR2GRAY)\n",
    "\n",
    "mask = obtain_measured_mask('img11.jpg', results_path, gray.shape)\n",
    "\n",
    "binary = pipe2.apply(imag, False)\n",
    "display_image_mask(image_rgb, binary)\n",
    "print_metrics(binary)\n",
    "print('Indice de Jaccard: ', jaccard_index(mask, binary))\n",
    "print('Cobertura de imagen:', image_matching(binary, mask))\n",
    "\n",
    "pipe_k_7 = pipeline()\n",
    "pipe_k_7.add_operation(partial(kmeans_segmentation, k=9))\n",
    "pipe_k_7.add_operation(otsu_threshold)\n",
    "pipe_k_7.add_operation(morfology_cleaning)\n",
    "binary = pipe_k_7.apply(imag, False)\n",
    "display_image_mask(image_rgb, binary)\n",
    "print_metrics(binary)\n",
    "print('Indice de Jaccard: ', jaccard_index(mask, binary))\n",
    "print('Cobertura de imagen:', image_matching(binary, mask))\n",
    "\n",
    "pipe_inter_k_7 = pipeline()\n",
    "pipe_inter_k_7.add_operation(partial(interpolate_image_size, prop_size=4, interpolation=cv2.INTER_CUBIC))\n",
    "pipe_inter_k_7.add_operation(partial(kmeans_segmentation, k=9))\n",
    "pipe_inter_k_7.add_operation(otsu_threshold)\n",
    "pipe_inter_k_7.add_operation(morfology_cleaning)\n",
    "binary = pipe_inter_k_7.apply(imag, False)\n",
    "#binary = interpolate_image_size(binary, prop_size=0.25, interpolation=cv2.INTER_CUBIC)\n",
    "display_image_mask(image_rgb, binary)\n",
    "#print_metrics(binary)\n",
    "print('Indice de Jaccard: ', jaccard_index(mask, binary))\n",
    "print('Cobertura de imagen:', image_matching(binary, mask))"
   ]
  },
  {
   "cell_type": "code",
   "execution_count": null,
   "metadata": {},
   "outputs": [],
   "source": [
    "imag = cv2.imread(os.path.join(TRAIN_DIR, 'pools', 'img11.jpg'))\n",
    "image_rgb = cv2.cvtColor(imag, cv2.COLOR_BGR2RGB)\n",
    "gray = cv2.cvtColor(imag, cv2.COLOR_BGR2GRAY)\n",
    "\n",
    "mask = obtain_measured_mask('img11.jpg', results_path, gray.shape)\n",
    "\n",
    "pipe_keep_most_blue = pipeline()\n",
    "pipe_keep_most_blue.add_operation(partial(kmeans_segmentation2, k=4))\n",
    "pipe_keep_most_blue.add_operation(keep_most_blue_component)\n",
    "#pipe_keep_most_blue.add_operation(otsu_threshold)\n",
    "pipe_keep_most_blue.add_operation(to_grayscale)\n",
    "pipe_keep_most_blue.add_operation(morfology_cleaning)\n",
    "binary = pipe_keep_most_blue.apply(image_rgb, False)\n",
    "display_image_mask(image_rgb, binary)\n",
    "#print_metrics(binary)\n",
    "print('Indice de Jaccard: ', jaccard_index(mask, binary))\n",
    "print('Cobertura de imagen:', image_matching(binary, mask))"
   ]
  },
  {
   "cell_type": "code",
   "execution_count": null,
   "metadata": {},
   "outputs": [],
   "source": [
    "pipe_keep_most_blue = pipeline()\n",
    "pipe_keep_most_blue.add_operation(partial(kmeans_segmentation2, k=8))\n",
    "pipe_keep_most_blue.add_operation(keep_most_blue_component)\n",
    "#pipe_keep_most_blue.add_operation(otsu_threshold)\n",
    "pipe_keep_most_blue.add_operation(to_grayscale)\n",
    "#pipe_keep_most_blue.add_operation(morfology_cleaning)\n",
    "binary = pipe_keep_most_blue.apply(image_rgb, False)\n",
    "display_image_mask(image_rgb, binary)\n",
    "#print_metrics(binary)\n",
    "print('Indice de Jaccard: ', jaccard_index(mask, binary))\n",
    "print('Cobertura de imagen:', image_matching(binary, mask))"
   ]
  },
  {
   "cell_type": "markdown",
   "metadata": {},
   "source": [
    "En el caso anterior se observa entonces como un valor mayor de k permite la segmentación en componentes más precisas, pero esto también lleva a una mayor granularidad en la segmentación, lo que puede llevar a que la componente elegida pierda cierta cantidad de detalles que disminuyen el indice de Jaccard obtenido por cubrir menos partes de la piscina deseada. Sin embargo esto sigue siendo mejor que el caso en que se usa un valor de k menor, ya que en este caso se pierde precisión en la segmentación, lo que lleva a que la componente elegida incluya una gran cantidad de secciones no deseadas.\n",
    "\n",
    "Puede verse incluso que la mayor presición en la segmentación obtenida lleva a invalidar las operaciones de eliminación de ruido, ya que en este caso se obtienen componentes demasiado pequeñas que son eliminadas por el filtro de tamaño mínimo o el filtro de otsu, como puede verse en las celdas siguientes. En el caso del filtro de tamaño mínimo esto podría ajustarse cambiando el tamaño de la componente mínima, pero intentar calibrar este valor en función del conjunto de datos para obtener mejores resultados sería una solución muy cercana al sobreajuste. Una operación análoga no es posible en el caso del filtro de otsu, ya que este depende de la imagen y no de la componente. "
   ]
  },
  {
   "cell_type": "code",
   "execution_count": null,
   "metadata": {},
   "outputs": [],
   "source": [
    "pipe_keep_most_blue_clean = pipeline()\n",
    "pipe_keep_most_blue_clean.add_operation(partial(kmeans_segmentation2, k=8))\n",
    "pipe_keep_most_blue_clean.add_operation(keep_most_blue_component)\n",
    "#pipe_keep_most_blue_clean.add_operation(otsu_threshold)\n",
    "pipe_keep_most_blue_clean.add_operation(to_grayscale)\n",
    "pipe_keep_most_blue_clean.add_operation(morfology_cleaning)\n",
    "binary = pipe_keep_most_blue_clean.apply(image_rgb, False)\n",
    "display_image_mask(image_rgb, binary)\n",
    "print('Indice de Jaccard: ', jaccard_index(mask, binary))\n",
    "print('Cobertura de imagen:', image_matching(binary, mask))"
   ]
  },
  {
   "cell_type": "markdown",
   "metadata": {},
   "source": [
    "Por las celdas anteriores se distingue entonces que el método de selección de componente \"más azul\" es más restrictivo en los resultados obtenidos, y por más que este sea más preciso en cuanto a la posición y forma general de la componente correspondiente a la piscina, este método tiende a descartar secciones deseadas de dicha componente, generando \"huecos\" que empeoran la cobertura obtenida. Una posible solución a este problema es expandir la selección obtenida y luego erosionarla para rellenar estos \"huecos\". Como puede verse en los ejemplos a continuación esto lleva a una mejor cobertura, pero sin salirse de la misma región que se obtenía con el método anterior."
   ]
  },
  {
   "cell_type": "code",
   "execution_count": null,
   "metadata": {},
   "outputs": [],
   "source": [
    "pipe_keep_most_blue_absorb = pipeline()\n",
    "pipe_keep_most_blue_absorb.add_operation(partial(kmeans_segmentation2, k=8))\n",
    "pipe_keep_most_blue_absorb.add_operation(keep_most_blue_component)\n",
    "pipe_keep_most_blue_absorb.add_operation(to_grayscale)\n",
    "pipe_keep_most_blue_absorb.add_operation(morfology_absorption)\n",
    "binary = pipe_keep_most_blue_absorb.apply(image_rgb, False)\n",
    "display_image_mask(image_rgb, binary)\n",
    "print('Indice de Jaccard: ', jaccard_index(mask, binary))\n",
    "print('Cobertura de imagen:', image_matching(binary, mask))"
   ]
  },
  {
   "cell_type": "code",
   "execution_count": null,
   "metadata": {},
   "outputs": [],
   "source": [
    "imag = cv2.imread(os.path.join(TRAIN_DIR, 'pools', 'img5.jpg'))\n",
    "image_rgb = cv2.cvtColor(imag, cv2.COLOR_BGR2RGB)\n",
    "gray = cv2.cvtColor(imag, cv2.COLOR_BGR2GRAY)\n",
    "\n",
    "mask = obtain_measured_mask('img5.jpg', results_path, gray.shape)\n",
    "\n",
    "binary = pipe_keep_most_blue.apply(image_rgb, False)\n",
    "display_image_mask(image_rgb, binary)\n",
    "print_metrics(binary)\n",
    "print('Indice de Jaccard: ', jaccard_index(mask, binary))\n",
    "print('Cobertura de imagen:', image_matching(binary, mask))"
   ]
  },
  {
   "cell_type": "code",
   "execution_count": null,
   "metadata": {},
   "outputs": [],
   "source": [
    "binary = pipe_keep_most_blue_absorb.apply(image_rgb, False)\n",
    "display_image_mask(image_rgb, binary)\n",
    "print_metrics(binary)\n",
    "print('Indice de Jaccard: ', jaccard_index(mask, binary))\n",
    "print('Cobertura de imagen:', image_matching(binary, mask))"
   ]
  },
  {
   "cell_type": "code",
   "execution_count": null,
   "metadata": {},
   "outputs": [],
   "source": [
    "imag = cv2.imread(os.path.join(TRAIN_DIR, 'pools', 'img13.jpg'))\n",
    "image_rgb = cv2.cvtColor(imag, cv2.COLOR_BGR2RGB)\n",
    "gray = cv2.cvtColor(imag, cv2.COLOR_BGR2GRAY)\n",
    "\n",
    "mask = obtain_measured_mask('img13.jpg', results_path, gray.shape)\n",
    "\n",
    "binary = pipe_keep_most_blue.apply(image_rgb, False)\n",
    "display_image_mask(image_rgb, binary)\n",
    "print_metrics(binary)\n",
    "print('Indice de Jaccard: ', jaccard_index(mask, binary))\n",
    "print('Cobertura de imagen:', image_matching(binary, mask))"
   ]
  },
  {
   "cell_type": "code",
   "execution_count": null,
   "metadata": {},
   "outputs": [],
   "source": [
    "binary = pipe_keep_most_blue_absorb.apply(image_rgb, False)\n",
    "display_image_mask(image_rgb, binary)\n",
    "print_metrics(binary)\n",
    "print('Indice de Jaccard: ', jaccard_index(mask, binary))\n",
    "print('Cobertura de imagen:', image_matching(binary, mask))"
   ]
  },
  {
   "cell_type": "code",
   "execution_count": null,
   "metadata": {},
   "outputs": [],
   "source": [
    "pipe_keep_most_blue_absorb = pipeline()\n",
    "pipe_keep_most_blue_absorb.add_operation(partial(kmeans_segmentation2, k=8))\n",
    "pipe_keep_most_blue_absorb.add_operation(keep_most_blue_component)\n",
    "pipe_keep_most_blue_absorb.add_operation(to_grayscale)\n",
    "pipe_keep_most_blue_absorb.add_operation(partial(morfology_absorption, size=2))\n",
    "binary = pipe_keep_most_blue_absorb.apply(image_rgb, False)\n",
    "display_image_mask(image_rgb, binary)\n",
    "print('Indice de Jaccard: ', jaccard_index(mask, binary))\n",
    "print('Cobertura de imagen:', image_matching(binary, mask))"
   ]
  },
  {
   "cell_type": "markdown",
   "metadata": {},
   "source": [
    "En los ejemplos anteriores puede verse también como esta técnica mejora los resultados en los casos en que la piscina no es de color azul completamente, ya que en estos casos el método rellena los huecos que este tipo de piscinas causan en las componentes halladas mediante k-means."
   ]
  },
  {
   "cell_type": "markdown",
   "metadata": {},
   "source": [
    "### COMPARACION"
   ]
  },
  {
   "cell_type": "markdown",
   "metadata": {},
   "source": [
    "En este caso pueden verse en orden los resultados de aplicar a una misma imagen los diferentes algoritmos de segmentación, con sus respectivos parámetros."
   ]
  },
  {
   "cell_type": "code",
   "execution_count": null,
   "metadata": {},
   "outputs": [],
   "source": [
    "imag = cv2.imread(os.path.join(TRAIN_DIR, 'pools', 'img29.jpg'))\n",
    "image_rgb = cv2.cvtColor(imag, cv2.COLOR_BGR2RGB)\n",
    "gray = cv2.cvtColor(imag, cv2.COLOR_BGR2GRAY)\n",
    "\n",
    "mask = obtain_measured_mask('img29.jpg', results_path, gray.shape)\n",
    "\n",
    "binary = pipe1.apply(imag, False)\n",
    "display_image_mask(image_rgb, binary)\n",
    "print_metrics(binary)\n",
    "print('Indice de Jaccard: ', jaccard_index(mask, binary))\n",
    "print('Cobertura de imagen:', image_matching(binary, mask))\n",
    "\n",
    "binary = pipe2.apply(imag, False)\n",
    "display_image_mask(image_rgb, binary)\n",
    "print_metrics(binary)\n",
    "print('Indice de Jaccard: ', jaccard_index(mask, binary))\n",
    "print('Cobertura de imagen:', image_matching(binary, mask))"
   ]
  },
  {
   "cell_type": "markdown",
   "metadata": {},
   "source": [
    "### COMENTAR PROBLEMAS, DIFICULTADES, ETC (agregar ejemplos si vale la pena)"
   ]
  },
  {
   "cell_type": "markdown",
   "metadata": {},
   "source": [
    "## MEDICIONES SOBRE MASCARAS"
   ]
  },
  {
   "cell_type": "markdown",
   "metadata": {},
   "source": [
    "A continuación se presenta una función dada devuelve varias medidas de una región de interés en una imagen binaria:\n",
    "\n",
    "1. **Área**: Mide el tamaño total de la región de interés en metros cuadrados. Es equivalente a la cantidad de píxeles en la región, convertidos a metros cuadrados mediante el factor de conversión proporcionado.\n",
    "\n",
    "2. **Perímetro**: Mide la longitud total del contorno de la región de interés en metros. Es equivalente a la cantidad de píxeles a lo largo del contorno de la región, convertidos a metros mediante el factor de conversión proporcionado.\n",
    "\n",
    "3. **Excentricidad**: Esta es una medida de cuánto la forma de la región de interés se desvía de un círculo perfecto. Es un valor escalar que varía de 0 a 1, donde 0 indica un círculo perfecto y valores cercanos a 1 indican formas más alargadas.\n",
    "\n",
    "4. **Diámetro Equivalente**: Esta es la medida del diámetro de un círculo que tiene el mismo área que la región de interés. Se mide en metros, obtenidos al convertir los píxeles a metros mediante el factor de conversión proporcionado."
   ]
  },
  {
   "cell_type": "code",
   "execution_count": 36,
   "metadata": {},
   "outputs": [],
   "source": [
    "def print_metrics(binary, pixel_to_meter_ratio):\n",
    "    # Label the largest object in the image\n",
    "    labels = measure.label(binary)\n",
    "    largest_object = np.argmax(np.bincount(labels.flat)[1:]) + 1\n",
    "\n",
    "    # Create a mask \n",
    "    pool_mask = labels == largest_object\n",
    "\n",
    "    props = measure.regionprops(pool_mask.astype(int))\n",
    "    prop = props[0]\n",
    "    area = prop.area * (pixel_to_meter_ratio**2)  # square the ratio for area\n",
    "    perimeter = prop.perimeter * pixel_to_meter_ratio  # apply the ratio for perimeter\n",
    "    eccentricity = prop.eccentricity\n",
    "    equivalent_diameter = prop.equivalent_diameter * pixel_to_meter_ratio  # apply the ratio for diameter\n",
    "\n",
    "    print( \"Area: {:.4f} square meters\".format(area))\n",
    "    print( \"Perimeter: {:.4f} meters\".format(perimeter))\n",
    "    print( \"Eccentricity: {:.4f}\".format(eccentricity))\n",
    "    print( \"Equivalent Diameter: {:.4f} meters\".format(equivalent_diameter))"
   ]
  },
  {
   "cell_type": "markdown",
   "metadata": {},
   "source": [
    "Luego se listan algunos ejemplos aplicados sobre algunas de las mascaras generadas sobre las imagenes de prueba. Se puede observar que las medidas de excentricidad son bastante adecuadas para distinguir las piscinas circulares de las más alargadas. Sin embargo, esto no es suficiente para distinguir las piscinas de otras cuadradas de las de borde redondeado.\n",
    "\n",
    "Respecto a las unidades de área y perímetro, estas dan resultados bastante razonables."
   ]
  },
  {
   "cell_type": "code",
   "execution_count": 39,
   "metadata": {},
   "outputs": [
    {
     "name": "stdout",
     "output_type": "stream",
     "text": [
      "Area: 9.6800 square meters\n",
      "Perimeter: 12.6711 meters\n",
      "Eccentricity: 0.8408\n",
      "Equivalent Diameter: 3.5107 meters\n"
     ]
    },
    {
     "data": {
      "image/png": "[encoded data removed]",
      "text/plain": [
       "<Figure size 640x480 with 1 Axes>"
      ]
     },
     "metadata": {},
     "output_type": "display_data"
    },
    {
     "name": "stdout",
     "output_type": "stream",
     "text": [
      "Area: 8.2000 square meters\n",
      "Perimeter: 10.1255 meters\n",
      "Eccentricity: 0.3382\n",
      "Equivalent Diameter: 3.2312 meters\n"
     ]
    },
    {
     "data": {
      "image/png": "[encoded data removed]",
      "text/plain": [
       "<Figure size 640x480 with 1 Axes>"
      ]
     },
     "metadata": {},
     "output_type": "display_data"
    },
    {
     "name": "stdout",
     "output_type": "stream",
     "text": [
      "Area: 5.1200 square meters\n",
      "Perimeter: 8.0770 meters\n",
      "Eccentricity: 0.3148\n",
      "Equivalent Diameter: 2.5532 meters\n"
     ]
    },
    {
     "data": {
      "image/png": "[encoded data removed]",
      "text/plain": [
       "<Figure size 640x480 with 1 Axes>"
      ]
     },
     "metadata": {},
     "output_type": "display_data"
    },
    {
     "name": "stdout",
     "output_type": "stream",
     "text": [
      "Area: 6.2800 square meters\n",
      "Perimeter: 9.4083 meters\n",
      "Eccentricity: 0.7095\n",
      "Equivalent Diameter: 2.8277 meters\n"
     ]
    },
    {
     "data": {
      "image/png": "[encoded data removed]",
      "text/plain": [
       "<Figure size 640x480 with 1 Axes>"
      ]
     },
     "metadata": {},
     "output_type": "display_data"
    },
    {
     "name": "stdout",
     "output_type": "stream",
     "text": [
      "Area: 29.8400 square meters\n",
      "Perimeter: 23.8250 meters\n",
      "Eccentricity: 0.8771\n",
      "Equivalent Diameter: 6.1639 meters\n"
     ]
    },
    {
     "data": {
      "image/png": "[encoded data removed]",
      "text/plain": [
       "<Figure size 640x480 with 1 Axes>"
      ]
     },
     "metadata": {},
     "output_type": "display_data"
    }
   ],
   "source": [
    "image_bgr = cv2.imread(os.path.join(TRAIN_DIR, 'pools', 'img20.jpg'))\n",
    "gray = cv2.cvtColor(image_bgr, cv2.COLOR_BGR2GRAY)\n",
    "mask = obtain_measured_mask('img0.jpg', TAGGED_IMAGES_PATH, gray.shape)\n",
    "print_metrics(mask, 0.2)\n",
    "plt.figure()\n",
    "plt.imshow(mask)\n",
    "plt.title(\"Mask\")\n",
    "plt.show()\n",
    "\n",
    "\n",
    "mask = obtain_measured_mask('img1.jpg', TAGGED_IMAGES_PATH, gray.shape)\n",
    "print_metrics(mask, 0.2)\n",
    "plt.figure()\n",
    "plt.imshow(mask)\n",
    "plt.title(\"Mask\")\n",
    "plt.show()\n",
    "\n",
    "\n",
    "mask = obtain_measured_mask('img2.jpg', TAGGED_IMAGES_PATH, gray.shape)\n",
    "print_metrics(mask, 0.2)\n",
    "plt.figure()\n",
    "plt.imshow(mask)\n",
    "plt.title(\"Mask\")\n",
    "plt.show()\n",
    "\n",
    "mask = obtain_measured_mask('img7.jpg', TAGGED_IMAGES_PATH, gray.shape)\n",
    "print_metrics(mask, 0.2)\n",
    "plt.figure()\n",
    "plt.imshow(mask)\n",
    "plt.title(\"Mask\")\n",
    "plt.show()\n",
    "\n",
    "mask = obtain_measured_mask('img15.jpg', TAGGED_IMAGES_PATH, gray.shape)\n",
    "print_metrics(mask, 0.2)\n",
    "plt.figure()\n",
    "plt.imshow(mask)\n",
    "plt.title(\"Mask\")\n",
    "plt.show()"
   ]
  }
 ],
 "metadata": {
  "kernelspec": {
   "display_name": "Python 3",
   "language": "python",
   "name": "python3"
  },
  "language_info": {
   "codemirror_mode": {
    "name": "ipython",
    "version": 3
   },
   "file_extension": ".py",
   "mimetype": "text/x-python",
   "name": "python",
   "nbconvert_exporter": "python",
   "pygments_lexer": "ipython3",
   "version": "3.10.11"
  },
  "orig_nbformat": 4
 },
 "nbformat": 4,
 "nbformat_minor": 2
}
